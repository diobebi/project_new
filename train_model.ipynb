{
 "cells": [
  {
   "cell_type": "code",
   "execution_count": 1,
   "id": "62988601-706e-4bd5-b617-630ecf47bbcf",
   "metadata": {},
   "outputs": [
    {
     "name": "stderr",
     "output_type": "stream",
     "text": [
      "/home/karolyi/miniconda/envs/project_thesis/lib/python3.13/site-packages/tqdm/auto.py:22: TqdmWarning: IProgress not found. Please update jupyter and ipywidgets. See https://ipywidgets.readthedocs.io/en/stable/user_install.html\n",
      "  from .autonotebook import tqdm as notebook_tqdm\n"
     ]
    }
   ],
   "source": [
    "import pandas as pd\n",
    "import numpy as np\n",
    "import torch\n",
    "import scripts\n",
    "from functools import lru_cache\n",
    "import torchmetrics\n",
    "from torch import nn\n",
    "import optuna"
   ]
  },
  {
   "cell_type": "markdown",
   "id": "2db4fd07-fd56-408f-b190-4f83ccd2f95c",
   "metadata": {},
   "source": [
    "# Data loading\n",
    "\n",
    "First we load the data. The basic idea is to create dictionaries with features associated to the drugs and cell-lines. In principle, the splits and the data shouldn't be changed"
   ]
  },
  {
   "cell_type": "code",
   "execution_count": 2,
   "id": "19b7d3c4-e803-4ba4-ba37-91295eb04378",
   "metadata": {},
   "outputs": [],
   "source": [
    "@lru_cache(maxsize = None)\n",
    "def get_data(n_fold = 0, fp_radius = 2):\n",
    "    smile_dict = pd.read_csv(\"data/smiles.csv\", index_col=0)\n",
    "    fp = scripts.FingerprintFeaturizer(R = fp_radius)\n",
    "    drug_dict = fp(smile_dict.iloc[:, 1], smile_dict.iloc[:, 0])\n",
    "    driver_genes = pd.read_csv(\"data/driver_genes.csv\").loc[:, \"symbol\"].dropna()\n",
    "    rnaseq = pd.read_csv(\"data/rnaseq_normcount.csv\", index_col=0)\n",
    "    driver_columns = rnaseq.columns.isin(driver_genes)\n",
    "    filtered_rna = rnaseq.loc[:, driver_columns]\n",
    "    tensor_exp = torch.Tensor(filtered_rna.to_numpy())\n",
    "    cell_dict = {cell: tensor_exp[i] for i, cell in enumerate(filtered_rna.index.to_numpy())}\n",
    "    data = pd.read_csv(\"data/GDSC12.csv\", index_col=0)\n",
    "    # default, remove data where lines or drugs are missing:\n",
    "    data = data.query(\"SANGER_MODEL_ID in @cell_dict.keys() & DRUG_ID in @drug_dict.keys()\")\n",
    "    unique_cell_lines = data.loc[:, \"SANGER_MODEL_ID\"].unique()\n",
    "    np.random.seed(420) # for comparibility, don't change it!\n",
    "    np.random.shuffle(unique_cell_lines)\n",
    "    folds = np.array_split(unique_cell_lines, 10)\n",
    "    test_lines = folds[0]\n",
    "    train_idxs = list(range(10))\n",
    "    train_idxs.remove(n_fold)\n",
    "    np.random.seed(420)\n",
    "    validation_idx = np.random.choice(train_idxs)\n",
    "    train_idxs.remove(validation_idx)\n",
    "    train_lines = np.concatenate([folds[idx] for idx in train_idxs])\n",
    "    validation_lines = folds[validation_idx]\n",
    "    test_lines = folds[n_fold]\n",
    "    train_data = data.query(\"SANGER_MODEL_ID in @train_lines\")\n",
    "    validation_data = data.query(\"SANGER_MODEL_ID in @validation_lines\")\n",
    "    test_data = data.query(\"SANGER_MODEL_ID in @test_lines\")\n",
    "    return (scripts.OmicsDataset_drugwise(cell_dict, drug_dict, train_data),\n",
    "    scripts.OmicsDataset_drugwise(cell_dict, drug_dict, validation_data),\n",
    "    scripts.OmicsDataset_drugwise(cell_dict, drug_dict, test_data))"
   ]
  },
  {
   "cell_type": "code",
   "execution_count": 3,
   "id": "75a0e7df",
   "metadata": {},
   "outputs": [],
   "source": []
  },
  {
   "cell_type": "markdown",
   "id": "8cccda52-600d-4931-b7ca-5c06db7d2d9f",
   "metadata": {},
   "source": [
    "# Configuration\n",
    "\n",
    "we declare the configuration, this is going to be model-specific and we get the datasets"
   ]
  },
  {
   "cell_type": "code",
   "execution_count": 3,
   "id": "b7c23383-21e3-4fdd-a6fa-4b181c451af1",
   "metadata": {},
   "outputs": [],
   "source": [
    "config = {\"features\" : {\"fp_radius\":2},\n",
    "          \"optimizer\": {\"batch_size\": 4,\n",
    "                        \"clip_norm\":19,\n",
    "                        \"learning_rate\":0.0004592646200179472,\n",
    "                        \"stopping_patience\":15},\n",
    "          \"model\":{\"embed_dim\":485,\n",
    "                 \"hidden_dim\":696,\n",
    "                 \"dropout\":0.48541242824674574,\n",
    "                 \"n_layers\": 4,\n",
    "                 \"norm\": \"batchnorm\"},\n",
    "         \"env\": {\"fold\": 0,\n",
    "                 \"device\":\"cpu\",\n",
    "                 \"max_epochs\": 100,\n",
    "                 \"search_hyperparameters\":True}}"
   ]
  },
  {
   "cell_type": "code",
   "execution_count": 4,
   "id": "9f80c659-4416-4017-902f-4d0bea4ccfcc",
   "metadata": {},
   "outputs": [
    {
     "name": "stderr",
     "output_type": "stream",
     "text": [
      "[11:23:39] DEPRECATION WARNING: please use MorganGenerator\n",
      "[11:23:39] DEPRECATION WARNING: please use MorganGenerator\n",
      "[11:23:39] DEPRECATION WARNING: please use MorganGenerator\n",
      "[11:23:39] DEPRECATION WARNING: please use MorganGenerator\n",
      "[11:23:39] DEPRECATION WARNING: please use MorganGenerator\n",
      "[11:23:39] DEPRECATION WARNING: please use MorganGenerator\n",
      "[11:23:39] DEPRECATION WARNING: please use MorganGenerator\n",
      "[11:23:39] DEPRECATION WARNING: please use MorganGenerator\n",
      "[11:23:39] DEPRECATION WARNING: please use MorganGenerator\n",
      "[11:23:39] DEPRECATION WARNING: please use MorganGenerator\n",
      "[11:23:39] DEPRECATION WARNING: please use MorganGenerator\n",
      "[11:23:39] DEPRECATION WARNING: please use MorganGenerator\n",
      "[11:23:39] DEPRECATION WARNING: please use MorganGenerator\n",
      "[11:23:39] DEPRECATION WARNING: please use MorganGenerator\n",
      "[11:23:39] DEPRECATION WARNING: please use MorganGenerator\n",
      "[11:23:39] DEPRECATION WARNING: please use MorganGenerator\n",
      "[11:23:39] DEPRECATION WARNING: please use MorganGenerator\n",
      "[11:23:39] DEPRECATION WARNING: please use MorganGenerator\n",
      "[11:23:39] DEPRECATION WARNING: please use MorganGenerator\n",
      "[11:23:39] DEPRECATION WARNING: please use MorganGenerator\n",
      "[11:23:39] DEPRECATION WARNING: please use MorganGenerator\n",
      "[11:23:39] DEPRECATION WARNING: please use MorganGenerator\n",
      "[11:23:39] DEPRECATION WARNING: please use MorganGenerator\n",
      "[11:23:39] DEPRECATION WARNING: please use MorganGenerator\n",
      "[11:23:39] DEPRECATION WARNING: please use MorganGenerator\n",
      "[11:23:39] DEPRECATION WARNING: please use MorganGenerator\n",
      "[11:23:39] DEPRECATION WARNING: please use MorganGenerator\n",
      "[11:23:39] DEPRECATION WARNING: please use MorganGenerator\n",
      "[11:23:39] DEPRECATION WARNING: please use MorganGenerator\n",
      "[11:23:39] DEPRECATION WARNING: please use MorganGenerator\n",
      "[11:23:39] DEPRECATION WARNING: please use MorganGenerator\n",
      "[11:23:39] DEPRECATION WARNING: please use MorganGenerator\n",
      "[11:23:39] DEPRECATION WARNING: please use MorganGenerator\n",
      "[11:23:39] DEPRECATION WARNING: please use MorganGenerator\n",
      "[11:23:39] DEPRECATION WARNING: please use MorganGenerator\n",
      "[11:23:39] DEPRECATION WARNING: please use MorganGenerator\n",
      "[11:23:39] DEPRECATION WARNING: please use MorganGenerator\n",
      "[11:23:39] DEPRECATION WARNING: please use MorganGenerator\n",
      "[11:23:39] DEPRECATION WARNING: please use MorganGenerator\n",
      "[11:23:39] DEPRECATION WARNING: please use MorganGenerator\n",
      "[11:23:39] DEPRECATION WARNING: please use MorganGenerator\n",
      "[11:23:39] DEPRECATION WARNING: please use MorganGenerator\n",
      "[11:23:39] DEPRECATION WARNING: please use MorganGenerator\n",
      "[11:23:39] DEPRECATION WARNING: please use MorganGenerator\n",
      "[11:23:39] DEPRECATION WARNING: please use MorganGenerator\n",
      "[11:23:39] DEPRECATION WARNING: please use MorganGenerator\n",
      "[11:23:39] DEPRECATION WARNING: please use MorganGenerator\n",
      "[11:23:39] DEPRECATION WARNING: please use MorganGenerator\n",
      "[11:23:39] DEPRECATION WARNING: please use MorganGenerator\n",
      "[11:23:39] DEPRECATION WARNING: please use MorganGenerator\n",
      "[11:23:39] DEPRECATION WARNING: please use MorganGenerator\n",
      "[11:23:39] DEPRECATION WARNING: please use MorganGenerator\n",
      "[11:23:39] DEPRECATION WARNING: please use MorganGenerator\n",
      "[11:23:39] DEPRECATION WARNING: please use MorganGenerator\n",
      "[11:23:39] DEPRECATION WARNING: please use MorganGenerator\n",
      "[11:23:39] DEPRECATION WARNING: please use MorganGenerator\n",
      "[11:23:39] DEPRECATION WARNING: please use MorganGenerator\n",
      "[11:23:39] DEPRECATION WARNING: please use MorganGenerator\n",
      "[11:23:39] DEPRECATION WARNING: please use MorganGenerator\n",
      "[11:23:39] DEPRECATION WARNING: please use MorganGenerator\n",
      "[11:23:39] DEPRECATION WARNING: please use MorganGenerator\n",
      "[11:23:39] DEPRECATION WARNING: please use MorganGenerator\n",
      "[11:23:39] DEPRECATION WARNING: please use MorganGenerator\n",
      "[11:23:39] DEPRECATION WARNING: please use MorganGenerator\n",
      "[11:23:39] DEPRECATION WARNING: please use MorganGenerator\n",
      "[11:23:39] DEPRECATION WARNING: please use MorganGenerator\n",
      "[11:23:39] DEPRECATION WARNING: please use MorganGenerator\n",
      "[11:23:39] DEPRECATION WARNING: please use MorganGenerator\n",
      "[11:23:39] DEPRECATION WARNING: please use MorganGenerator\n",
      "[11:23:39] DEPRECATION WARNING: please use MorganGenerator\n",
      "[11:23:39] DEPRECATION WARNING: please use MorganGenerator\n",
      "[11:23:39] DEPRECATION WARNING: please use MorganGenerator\n",
      "[11:23:39] DEPRECATION WARNING: please use MorganGenerator\n",
      "[11:23:39] DEPRECATION WARNING: please use MorganGenerator\n",
      "[11:23:39] DEPRECATION WARNING: please use MorganGenerator\n",
      "[11:23:39] DEPRECATION WARNING: please use MorganGenerator\n",
      "[11:23:39] DEPRECATION WARNING: please use MorganGenerator\n",
      "[11:23:39] DEPRECATION WARNING: please use MorganGenerator\n",
      "[11:23:39] DEPRECATION WARNING: please use MorganGenerator\n",
      "[11:23:39] DEPRECATION WARNING: please use MorganGenerator\n",
      "[11:23:39] DEPRECATION WARNING: please use MorganGenerator\n",
      "[11:23:39] DEPRECATION WARNING: please use MorganGenerator\n",
      "[11:23:39] DEPRECATION WARNING: please use MorganGenerator\n",
      "[11:23:39] DEPRECATION WARNING: please use MorganGenerator\n",
      "[11:23:39] DEPRECATION WARNING: please use MorganGenerator\n",
      "[11:23:39] DEPRECATION WARNING: please use MorganGenerator\n",
      "[11:23:39] DEPRECATION WARNING: please use MorganGenerator\n",
      "[11:23:39] DEPRECATION WARNING: please use MorganGenerator\n",
      "[11:23:39] DEPRECATION WARNING: please use MorganGenerator\n",
      "[11:23:39] DEPRECATION WARNING: please use MorganGenerator\n",
      "[11:23:39] DEPRECATION WARNING: please use MorganGenerator\n",
      "[11:23:39] DEPRECATION WARNING: please use MorganGenerator\n",
      "[11:23:39] DEPRECATION WARNING: please use MorganGenerator\n",
      "[11:23:39] DEPRECATION WARNING: please use MorganGenerator\n",
      "[11:23:39] DEPRECATION WARNING: please use MorganGenerator\n",
      "[11:23:39] DEPRECATION WARNING: please use MorganGenerator\n",
      "[11:23:39] DEPRECATION WARNING: please use MorganGenerator\n",
      "[11:23:39] DEPRECATION WARNING: please use MorganGenerator\n",
      "[11:23:39] DEPRECATION WARNING: please use MorganGenerator\n",
      "[11:23:39] DEPRECATION WARNING: please use MorganGenerator\n",
      "[11:23:39] DEPRECATION WARNING: please use MorganGenerator\n",
      "[11:23:39] DEPRECATION WARNING: please use MorganGenerator\n",
      "[11:23:39] DEPRECATION WARNING: please use MorganGenerator\n",
      "[11:23:39] DEPRECATION WARNING: please use MorganGenerator\n",
      "[11:23:39] DEPRECATION WARNING: please use MorganGenerator\n",
      "[11:23:39] DEPRECATION WARNING: please use MorganGenerator\n",
      "[11:23:39] DEPRECATION WARNING: please use MorganGenerator\n",
      "[11:23:39] DEPRECATION WARNING: please use MorganGenerator\n",
      "[11:23:39] DEPRECATION WARNING: please use MorganGenerator\n",
      "[11:23:39] DEPRECATION WARNING: please use MorganGenerator\n",
      "[11:23:39] DEPRECATION WARNING: please use MorganGenerator\n",
      "[11:23:39] DEPRECATION WARNING: please use MorganGenerator\n",
      "[11:23:39] DEPRECATION WARNING: please use MorganGenerator\n",
      "[11:23:39] DEPRECATION WARNING: please use MorganGenerator\n",
      "[11:23:39] DEPRECATION WARNING: please use MorganGenerator\n",
      "[11:23:39] DEPRECATION WARNING: please use MorganGenerator\n",
      "[11:23:39] DEPRECATION WARNING: please use MorganGenerator\n",
      "[11:23:39] DEPRECATION WARNING: please use MorganGenerator\n",
      "[11:23:39] DEPRECATION WARNING: please use MorganGenerator\n",
      "[11:23:39] DEPRECATION WARNING: please use MorganGenerator\n",
      "[11:23:39] DEPRECATION WARNING: please use MorganGenerator\n",
      "[11:23:39] DEPRECATION WARNING: please use MorganGenerator\n",
      "[11:23:39] DEPRECATION WARNING: please use MorganGenerator\n",
      "[11:23:39] DEPRECATION WARNING: please use MorganGenerator\n",
      "[11:23:39] DEPRECATION WARNING: please use MorganGenerator\n",
      "[11:23:39] DEPRECATION WARNING: please use MorganGenerator\n",
      "[11:23:39] DEPRECATION WARNING: please use MorganGenerator\n",
      "[11:23:39] DEPRECATION WARNING: please use MorganGenerator\n",
      "[11:23:39] DEPRECATION WARNING: please use MorganGenerator\n",
      "[11:23:39] DEPRECATION WARNING: please use MorganGenerator\n",
      "[11:23:39] DEPRECATION WARNING: please use MorganGenerator\n",
      "[11:23:39] DEPRECATION WARNING: please use MorganGenerator\n",
      "[11:23:39] DEPRECATION WARNING: please use MorganGenerator\n",
      "[11:23:39] DEPRECATION WARNING: please use MorganGenerator\n",
      "[11:23:39] DEPRECATION WARNING: please use MorganGenerator\n",
      "[11:23:39] DEPRECATION WARNING: please use MorganGenerator\n",
      "[11:23:39] DEPRECATION WARNING: please use MorganGenerator\n",
      "[11:23:39] DEPRECATION WARNING: please use MorganGenerator\n",
      "[11:23:39] DEPRECATION WARNING: please use MorganGenerator\n",
      "[11:23:39] DEPRECATION WARNING: please use MorganGenerator\n",
      "[11:23:39] DEPRECATION WARNING: please use MorganGenerator\n",
      "[11:23:39] DEPRECATION WARNING: please use MorganGenerator\n",
      "[11:23:39] DEPRECATION WARNING: please use MorganGenerator\n",
      "[11:23:39] DEPRECATION WARNING: please use MorganGenerator\n",
      "[11:23:39] DEPRECATION WARNING: please use MorganGenerator\n",
      "[11:23:39] DEPRECATION WARNING: please use MorganGenerator\n",
      "[11:23:39] DEPRECATION WARNING: please use MorganGenerator\n",
      "[11:23:39] DEPRECATION WARNING: please use MorganGenerator\n",
      "[11:23:39] DEPRECATION WARNING: please use MorganGenerator\n",
      "[11:23:39] DEPRECATION WARNING: please use MorganGenerator\n",
      "[11:23:39] DEPRECATION WARNING: please use MorganGenerator\n",
      "[11:23:39] DEPRECATION WARNING: please use MorganGenerator\n",
      "[11:23:39] DEPRECATION WARNING: please use MorganGenerator\n",
      "[11:23:39] DEPRECATION WARNING: please use MorganGenerator\n",
      "[11:23:39] DEPRECATION WARNING: please use MorganGenerator\n",
      "[11:23:39] DEPRECATION WARNING: please use MorganGenerator\n",
      "[11:23:39] DEPRECATION WARNING: please use MorganGenerator\n",
      "[11:23:39] DEPRECATION WARNING: please use MorganGenerator\n",
      "[11:23:39] DEPRECATION WARNING: please use MorganGenerator\n",
      "[11:23:39] DEPRECATION WARNING: please use MorganGenerator\n",
      "[11:23:39] DEPRECATION WARNING: please use MorganGenerator\n",
      "[11:23:39] DEPRECATION WARNING: please use MorganGenerator\n",
      "[11:23:39] DEPRECATION WARNING: please use MorganGenerator\n",
      "[11:23:39] DEPRECATION WARNING: please use MorganGenerator\n",
      "[11:23:39] DEPRECATION WARNING: please use MorganGenerator\n",
      "[11:23:39] DEPRECATION WARNING: please use MorganGenerator\n",
      "[11:23:39] DEPRECATION WARNING: please use MorganGenerator\n",
      "[11:23:39] DEPRECATION WARNING: please use MorganGenerator\n",
      "[11:23:39] DEPRECATION WARNING: please use MorganGenerator\n",
      "[11:23:39] DEPRECATION WARNING: please use MorganGenerator\n",
      "[11:23:39] DEPRECATION WARNING: please use MorganGenerator\n",
      "[11:23:39] DEPRECATION WARNING: please use MorganGenerator\n",
      "[11:23:39] DEPRECATION WARNING: please use MorganGenerator\n",
      "[11:23:39] DEPRECATION WARNING: please use MorganGenerator\n",
      "[11:23:39] DEPRECATION WARNING: please use MorganGenerator\n",
      "[11:23:39] DEPRECATION WARNING: please use MorganGenerator\n",
      "[11:23:39] DEPRECATION WARNING: please use MorganGenerator\n",
      "[11:23:39] DEPRECATION WARNING: please use MorganGenerator\n",
      "[11:23:39] DEPRECATION WARNING: please use MorganGenerator\n",
      "[11:23:39] DEPRECATION WARNING: please use MorganGenerator\n",
      "[11:23:39] DEPRECATION WARNING: please use MorganGenerator\n",
      "[11:23:39] DEPRECATION WARNING: please use MorganGenerator\n",
      "[11:23:39] DEPRECATION WARNING: please use MorganGenerator\n",
      "[11:23:39] DEPRECATION WARNING: please use MorganGenerator\n",
      "[11:23:39] DEPRECATION WARNING: please use MorganGenerator\n",
      "[11:23:39] DEPRECATION WARNING: please use MorganGenerator\n",
      "[11:23:39] DEPRECATION WARNING: please use MorganGenerator\n",
      "[11:23:39] DEPRECATION WARNING: please use MorganGenerator\n",
      "[11:23:39] DEPRECATION WARNING: please use MorganGenerator\n",
      "[11:23:39] DEPRECATION WARNING: please use MorganGenerator\n",
      "[11:23:39] DEPRECATION WARNING: please use MorganGenerator\n",
      "[11:23:39] DEPRECATION WARNING: please use MorganGenerator\n",
      "[11:23:39] DEPRECATION WARNING: please use MorganGenerator\n",
      "[11:23:39] DEPRECATION WARNING: please use MorganGenerator\n",
      "[11:23:39] DEPRECATION WARNING: please use MorganGenerator\n",
      "[11:23:39] DEPRECATION WARNING: please use MorganGenerator\n",
      "[11:23:39] DEPRECATION WARNING: please use MorganGenerator\n",
      "[11:23:39] DEPRECATION WARNING: please use MorganGenerator\n",
      "[11:23:39] DEPRECATION WARNING: please use MorganGenerator\n",
      "[11:23:39] DEPRECATION WARNING: please use MorganGenerator\n",
      "[11:23:39] DEPRECATION WARNING: please use MorganGenerator\n",
      "[11:23:39] DEPRECATION WARNING: please use MorganGenerator\n",
      "[11:23:39] DEPRECATION WARNING: please use MorganGenerator\n",
      "[11:23:39] DEPRECATION WARNING: please use MorganGenerator\n",
      "[11:23:39] DEPRECATION WARNING: please use MorganGenerator\n",
      "[11:23:39] DEPRECATION WARNING: please use MorganGenerator\n",
      "[11:23:39] DEPRECATION WARNING: please use MorganGenerator\n",
      "[11:23:39] DEPRECATION WARNING: please use MorganGenerator\n",
      "[11:23:39] DEPRECATION WARNING: please use MorganGenerator\n",
      "[11:23:39] DEPRECATION WARNING: please use MorganGenerator\n",
      "[11:23:39] DEPRECATION WARNING: please use MorganGenerator\n",
      "[11:23:39] DEPRECATION WARNING: please use MorganGenerator\n",
      "[11:23:39] DEPRECATION WARNING: please use MorganGenerator\n",
      "[11:23:39] DEPRECATION WARNING: please use MorganGenerator\n",
      "[11:23:39] DEPRECATION WARNING: please use MorganGenerator\n",
      "[11:23:39] DEPRECATION WARNING: please use MorganGenerator\n",
      "[11:23:39] DEPRECATION WARNING: please use MorganGenerator\n",
      "[11:23:39] DEPRECATION WARNING: please use MorganGenerator\n",
      "[11:23:39] DEPRECATION WARNING: please use MorganGenerator\n",
      "[11:23:39] DEPRECATION WARNING: please use MorganGenerator\n",
      "[11:23:39] DEPRECATION WARNING: please use MorganGenerator\n",
      "[11:23:39] DEPRECATION WARNING: please use MorganGenerator\n",
      "[11:23:39] DEPRECATION WARNING: please use MorganGenerator\n",
      "[11:23:39] DEPRECATION WARNING: please use MorganGenerator\n",
      "[11:23:39] DEPRECATION WARNING: please use MorganGenerator\n",
      "[11:23:39] DEPRECATION WARNING: please use MorganGenerator\n",
      "[11:23:39] DEPRECATION WARNING: please use MorganGenerator\n",
      "[11:23:40] DEPRECATION WARNING: please use MorganGenerator\n",
      "[11:23:40] DEPRECATION WARNING: please use MorganGenerator\n",
      "[11:23:40] DEPRECATION WARNING: please use MorganGenerator\n",
      "[11:23:40] DEPRECATION WARNING: please use MorganGenerator\n",
      "[11:23:40] DEPRECATION WARNING: please use MorganGenerator\n",
      "[11:23:40] DEPRECATION WARNING: please use MorganGenerator\n",
      "[11:23:40] DEPRECATION WARNING: please use MorganGenerator\n",
      "[11:23:40] DEPRECATION WARNING: please use MorganGenerator\n",
      "[11:23:40] DEPRECATION WARNING: please use MorganGenerator\n",
      "[11:23:40] DEPRECATION WARNING: please use MorganGenerator\n",
      "[11:23:40] DEPRECATION WARNING: please use MorganGenerator\n",
      "[11:23:40] DEPRECATION WARNING: please use MorganGenerator\n",
      "[11:23:40] DEPRECATION WARNING: please use MorganGenerator\n",
      "[11:23:40] DEPRECATION WARNING: please use MorganGenerator\n",
      "[11:23:40] DEPRECATION WARNING: please use MorganGenerator\n",
      "[11:23:40] DEPRECATION WARNING: please use MorganGenerator\n",
      "[11:23:40] DEPRECATION WARNING: please use MorganGenerator\n",
      "[11:23:40] DEPRECATION WARNING: please use MorganGenerator\n",
      "[11:23:40] DEPRECATION WARNING: please use MorganGenerator\n",
      "[11:23:40] DEPRECATION WARNING: please use MorganGenerator\n",
      "[11:23:40] DEPRECATION WARNING: please use MorganGenerator\n",
      "[11:23:40] DEPRECATION WARNING: please use MorganGenerator\n",
      "[11:23:40] DEPRECATION WARNING: please use MorganGenerator\n",
      "[11:23:40] DEPRECATION WARNING: please use MorganGenerator\n",
      "[11:23:40] DEPRECATION WARNING: please use MorganGenerator\n",
      "[11:23:40] DEPRECATION WARNING: please use MorganGenerator\n",
      "[11:23:40] DEPRECATION WARNING: please use MorganGenerator\n",
      "[11:23:40] DEPRECATION WARNING: please use MorganGenerator\n",
      "[11:23:40] DEPRECATION WARNING: please use MorganGenerator\n",
      "[11:23:40] DEPRECATION WARNING: please use MorganGenerator\n",
      "[11:23:40] DEPRECATION WARNING: please use MorganGenerator\n",
      "[11:23:40] DEPRECATION WARNING: please use MorganGenerator\n",
      "[11:23:40] DEPRECATION WARNING: please use MorganGenerator\n",
      "[11:23:40] DEPRECATION WARNING: please use MorganGenerator\n",
      "[11:23:40] DEPRECATION WARNING: please use MorganGenerator\n",
      "[11:23:40] DEPRECATION WARNING: please use MorganGenerator\n",
      "[11:23:40] DEPRECATION WARNING: please use MorganGenerator\n",
      "[11:23:40] DEPRECATION WARNING: please use MorganGenerator\n",
      "[11:23:40] DEPRECATION WARNING: please use MorganGenerator\n",
      "[11:23:40] DEPRECATION WARNING: please use MorganGenerator\n",
      "[11:23:40] DEPRECATION WARNING: please use MorganGenerator\n",
      "[11:23:40] DEPRECATION WARNING: please use MorganGenerator\n",
      "[11:23:40] DEPRECATION WARNING: please use MorganGenerator\n",
      "[11:23:40] DEPRECATION WARNING: please use MorganGenerator\n",
      "[11:23:40] DEPRECATION WARNING: please use MorganGenerator\n",
      "[11:23:40] DEPRECATION WARNING: please use MorganGenerator\n",
      "[11:23:40] DEPRECATION WARNING: please use MorganGenerator\n",
      "[11:23:40] DEPRECATION WARNING: please use MorganGenerator\n",
      "[11:23:40] DEPRECATION WARNING: please use MorganGenerator\n",
      "[11:23:40] DEPRECATION WARNING: please use MorganGenerator\n",
      "[11:23:40] DEPRECATION WARNING: please use MorganGenerator\n",
      "[11:23:40] DEPRECATION WARNING: please use MorganGenerator\n",
      "[11:23:40] DEPRECATION WARNING: please use MorganGenerator\n",
      "[11:23:40] DEPRECATION WARNING: please use MorganGenerator\n",
      "[11:23:40] DEPRECATION WARNING: please use MorganGenerator\n",
      "[11:23:40] DEPRECATION WARNING: please use MorganGenerator\n",
      "[11:23:40] DEPRECATION WARNING: please use MorganGenerator\n",
      "[11:23:40] DEPRECATION WARNING: please use MorganGenerator\n",
      "[11:23:40] DEPRECATION WARNING: please use MorganGenerator\n",
      "[11:23:40] DEPRECATION WARNING: please use MorganGenerator\n",
      "[11:23:40] DEPRECATION WARNING: please use MorganGenerator\n",
      "[11:23:40] DEPRECATION WARNING: please use MorganGenerator\n",
      "[11:23:40] DEPRECATION WARNING: please use MorganGenerator\n",
      "[11:23:40] DEPRECATION WARNING: please use MorganGenerator\n",
      "[11:23:40] DEPRECATION WARNING: please use MorganGenerator\n",
      "[11:23:40] DEPRECATION WARNING: please use MorganGenerator\n",
      "[11:23:40] DEPRECATION WARNING: please use MorganGenerator\n",
      "[11:23:40] DEPRECATION WARNING: please use MorganGenerator\n",
      "[11:23:40] DEPRECATION WARNING: please use MorganGenerator\n",
      "[11:23:40] DEPRECATION WARNING: please use MorganGenerator\n",
      "[11:23:40] DEPRECATION WARNING: please use MorganGenerator\n",
      "[11:23:40] DEPRECATION WARNING: please use MorganGenerator\n",
      "[11:23:40] DEPRECATION WARNING: please use MorganGenerator\n",
      "[11:23:40] DEPRECATION WARNING: please use MorganGenerator\n",
      "[11:23:40] DEPRECATION WARNING: please use MorganGenerator\n",
      "[11:23:40] DEPRECATION WARNING: please use MorganGenerator\n",
      "[11:23:40] DEPRECATION WARNING: please use MorganGenerator\n",
      "[11:23:40] DEPRECATION WARNING: please use MorganGenerator\n",
      "[11:23:40] DEPRECATION WARNING: please use MorganGenerator\n",
      "[11:23:40] DEPRECATION WARNING: please use MorganGenerator\n",
      "[11:23:40] DEPRECATION WARNING: please use MorganGenerator\n",
      "[11:23:40] DEPRECATION WARNING: please use MorganGenerator\n",
      "[11:23:40] DEPRECATION WARNING: please use MorganGenerator\n",
      "[11:23:40] DEPRECATION WARNING: please use MorganGenerator\n",
      "[11:23:40] DEPRECATION WARNING: please use MorganGenerator\n",
      "[11:23:40] DEPRECATION WARNING: please use MorganGenerator\n",
      "[11:23:40] DEPRECATION WARNING: please use MorganGenerator\n",
      "[11:23:40] DEPRECATION WARNING: please use MorganGenerator\n",
      "[11:23:40] DEPRECATION WARNING: please use MorganGenerator\n",
      "[11:23:40] DEPRECATION WARNING: please use MorganGenerator\n",
      "[11:23:40] DEPRECATION WARNING: please use MorganGenerator\n",
      "[11:23:40] DEPRECATION WARNING: please use MorganGenerator\n",
      "[11:23:40] DEPRECATION WARNING: please use MorganGenerator\n",
      "[11:23:40] DEPRECATION WARNING: please use MorganGenerator\n",
      "[11:23:40] DEPRECATION WARNING: please use MorganGenerator\n",
      "[11:23:40] DEPRECATION WARNING: please use MorganGenerator\n",
      "[11:23:40] DEPRECATION WARNING: please use MorganGenerator\n",
      "[11:23:40] DEPRECATION WARNING: please use MorganGenerator\n",
      "[11:23:40] DEPRECATION WARNING: please use MorganGenerator\n",
      "[11:23:40] DEPRECATION WARNING: please use MorganGenerator\n",
      "[11:23:40] DEPRECATION WARNING: please use MorganGenerator\n",
      "[11:23:40] DEPRECATION WARNING: please use MorganGenerator\n",
      "[11:23:40] DEPRECATION WARNING: please use MorganGenerator\n",
      "[11:23:40] DEPRECATION WARNING: please use MorganGenerator\n",
      "[11:23:40] DEPRECATION WARNING: please use MorganGenerator\n",
      "[11:23:40] DEPRECATION WARNING: please use MorganGenerator\n",
      "[11:23:40] DEPRECATION WARNING: please use MorganGenerator\n",
      "[11:23:40] DEPRECATION WARNING: please use MorganGenerator\n",
      "[11:23:40] DEPRECATION WARNING: please use MorganGenerator\n",
      "[11:23:40] DEPRECATION WARNING: please use MorganGenerator\n",
      "[11:23:40] DEPRECATION WARNING: please use MorganGenerator\n",
      "[11:23:40] DEPRECATION WARNING: please use MorganGenerator\n",
      "[11:23:40] DEPRECATION WARNING: please use MorganGenerator\n",
      "[11:23:40] DEPRECATION WARNING: please use MorganGenerator\n",
      "[11:23:40] DEPRECATION WARNING: please use MorganGenerator\n",
      "[11:23:40] DEPRECATION WARNING: please use MorganGenerator\n",
      "[11:23:40] DEPRECATION WARNING: please use MorganGenerator\n",
      "[11:23:40] DEPRECATION WARNING: please use MorganGenerator\n",
      "[11:23:40] DEPRECATION WARNING: please use MorganGenerator\n",
      "[11:23:40] DEPRECATION WARNING: please use MorganGenerator\n",
      "[11:23:40] DEPRECATION WARNING: please use MorganGenerator\n",
      "[11:23:40] DEPRECATION WARNING: please use MorganGenerator\n",
      "[11:23:40] DEPRECATION WARNING: please use MorganGenerator\n",
      "[11:23:40] DEPRECATION WARNING: please use MorganGenerator\n",
      "[11:23:40] DEPRECATION WARNING: please use MorganGenerator\n",
      "[11:23:40] DEPRECATION WARNING: please use MorganGenerator\n",
      "[11:23:40] DEPRECATION WARNING: please use MorganGenerator\n",
      "[11:23:40] DEPRECATION WARNING: please use MorganGenerator\n",
      "[11:23:40] DEPRECATION WARNING: please use MorganGenerator\n",
      "[11:23:40] DEPRECATION WARNING: please use MorganGenerator\n",
      "[11:23:40] DEPRECATION WARNING: please use MorganGenerator\n",
      "[11:23:40] DEPRECATION WARNING: please use MorganGenerator\n",
      "[11:23:40] DEPRECATION WARNING: please use MorganGenerator\n",
      "[11:23:40] DEPRECATION WARNING: please use MorganGenerator\n",
      "[11:23:40] DEPRECATION WARNING: please use MorganGenerator\n",
      "[11:23:40] DEPRECATION WARNING: please use MorganGenerator\n",
      "[11:23:40] DEPRECATION WARNING: please use MorganGenerator\n",
      "[11:23:40] DEPRECATION WARNING: please use MorganGenerator\n",
      "[11:23:40] DEPRECATION WARNING: please use MorganGenerator\n",
      "[11:23:40] DEPRECATION WARNING: please use MorganGenerator\n",
      "[11:23:40] DEPRECATION WARNING: please use MorganGenerator\n",
      "[11:23:40] DEPRECATION WARNING: please use MorganGenerator\n",
      "[11:23:40] DEPRECATION WARNING: please use MorganGenerator\n",
      "[11:23:40] DEPRECATION WARNING: please use MorganGenerator\n",
      "[11:23:40] DEPRECATION WARNING: please use MorganGenerator\n",
      "[11:23:40] DEPRECATION WARNING: please use MorganGenerator\n",
      "[11:23:40] DEPRECATION WARNING: please use MorganGenerator\n",
      "[11:23:40] DEPRECATION WARNING: please use MorganGenerator\n",
      "[11:23:40] DEPRECATION WARNING: please use MorganGenerator\n",
      "[11:23:40] DEPRECATION WARNING: please use MorganGenerator\n",
      "[11:23:40] DEPRECATION WARNING: please use MorganGenerator\n",
      "[11:23:40] DEPRECATION WARNING: please use MorganGenerator\n",
      "[11:23:40] DEPRECATION WARNING: please use MorganGenerator\n",
      "[11:23:40] DEPRECATION WARNING: please use MorganGenerator\n",
      "[11:23:40] DEPRECATION WARNING: please use MorganGenerator\n",
      "[11:23:40] DEPRECATION WARNING: please use MorganGenerator\n",
      "[11:23:40] DEPRECATION WARNING: please use MorganGenerator\n",
      "[11:23:40] DEPRECATION WARNING: please use MorganGenerator\n",
      "[11:23:40] DEPRECATION WARNING: please use MorganGenerator\n",
      "[11:23:40] DEPRECATION WARNING: please use MorganGenerator\n",
      "[11:23:40] DEPRECATION WARNING: please use MorganGenerator\n",
      "[11:23:40] DEPRECATION WARNING: please use MorganGenerator\n",
      "[11:23:40] DEPRECATION WARNING: please use MorganGenerator\n",
      "[11:23:40] DEPRECATION WARNING: please use MorganGenerator\n",
      "[11:23:40] DEPRECATION WARNING: please use MorganGenerator\n",
      "[11:23:40] DEPRECATION WARNING: please use MorganGenerator\n",
      "[11:23:40] DEPRECATION WARNING: please use MorganGenerator\n",
      "[11:23:40] DEPRECATION WARNING: please use MorganGenerator\n",
      "[11:23:40] DEPRECATION WARNING: please use MorganGenerator\n",
      "[11:23:40] DEPRECATION WARNING: please use MorganGenerator\n",
      "[11:23:40] DEPRECATION WARNING: please use MorganGenerator\n",
      "[11:23:40] DEPRECATION WARNING: please use MorganGenerator\n",
      "[11:23:40] DEPRECATION WARNING: please use MorganGenerator\n",
      "[11:23:40] DEPRECATION WARNING: please use MorganGenerator\n",
      "[11:23:40] DEPRECATION WARNING: please use MorganGenerator\n",
      "[11:23:40] DEPRECATION WARNING: please use MorganGenerator\n",
      "[11:23:40] DEPRECATION WARNING: please use MorganGenerator\n",
      "[11:23:40] DEPRECATION WARNING: please use MorganGenerator\n",
      "[11:23:40] DEPRECATION WARNING: please use MorganGenerator\n",
      "[11:23:40] DEPRECATION WARNING: please use MorganGenerator\n",
      "[11:23:40] DEPRECATION WARNING: please use MorganGenerator\n",
      "[11:23:40] DEPRECATION WARNING: please use MorganGenerator\n",
      "[11:23:40] DEPRECATION WARNING: please use MorganGenerator\n",
      "[11:23:40] DEPRECATION WARNING: please use MorganGenerator\n",
      "[11:23:40] DEPRECATION WARNING: please use MorganGenerator\n",
      "[11:23:40] DEPRECATION WARNING: please use MorganGenerator\n",
      "[11:23:40] DEPRECATION WARNING: please use MorganGenerator\n",
      "[11:23:40] DEPRECATION WARNING: please use MorganGenerator\n",
      "[11:23:40] DEPRECATION WARNING: please use MorganGenerator\n",
      "[11:23:40] DEPRECATION WARNING: please use MorganGenerator\n",
      "[11:23:40] DEPRECATION WARNING: please use MorganGenerator\n",
      "[11:23:40] DEPRECATION WARNING: please use MorganGenerator\n",
      "[11:23:40] DEPRECATION WARNING: please use MorganGenerator\n",
      "[11:23:40] DEPRECATION WARNING: please use MorganGenerator\n",
      "[11:23:40] DEPRECATION WARNING: please use MorganGenerator\n",
      "[11:23:40] DEPRECATION WARNING: please use MorganGenerator\n",
      "[11:23:40] DEPRECATION WARNING: please use MorganGenerator\n",
      "[11:23:40] DEPRECATION WARNING: please use MorganGenerator\n",
      "[11:23:40] DEPRECATION WARNING: please use MorganGenerator\n",
      "[11:23:40] DEPRECATION WARNING: please use MorganGenerator\n",
      "[11:23:40] DEPRECATION WARNING: please use MorganGenerator\n",
      "[11:23:40] DEPRECATION WARNING: please use MorganGenerator\n",
      "[11:23:40] DEPRECATION WARNING: please use MorganGenerator\n",
      "[11:23:40] DEPRECATION WARNING: please use MorganGenerator\n",
      "[11:23:40] DEPRECATION WARNING: please use MorganGenerator\n",
      "[11:23:40] DEPRECATION WARNING: please use MorganGenerator\n",
      "[11:23:40] DEPRECATION WARNING: please use MorganGenerator\n",
      "[11:23:40] DEPRECATION WARNING: please use MorganGenerator\n",
      "[11:23:40] DEPRECATION WARNING: please use MorganGenerator\n",
      "[11:23:40] DEPRECATION WARNING: please use MorganGenerator\n",
      "[11:23:40] DEPRECATION WARNING: please use MorganGenerator\n",
      "[11:23:40] DEPRECATION WARNING: please use MorganGenerator\n",
      "[11:23:40] DEPRECATION WARNING: please use MorganGenerator\n",
      "[11:23:40] DEPRECATION WARNING: please use MorganGenerator\n",
      "[11:23:40] DEPRECATION WARNING: please use MorganGenerator\n",
      "[11:23:40] DEPRECATION WARNING: please use MorganGenerator\n",
      "[11:23:40] DEPRECATION WARNING: please use MorganGenerator\n",
      "[11:23:40] DEPRECATION WARNING: please use MorganGenerator\n",
      "[11:23:40] DEPRECATION WARNING: please use MorganGenerator\n",
      "[11:23:40] DEPRECATION WARNING: please use MorganGenerator\n",
      "[11:23:40] DEPRECATION WARNING: please use MorganGenerator\n",
      "[11:23:40] DEPRECATION WARNING: please use MorganGenerator\n",
      "[11:23:40] DEPRECATION WARNING: please use MorganGenerator\n",
      "[11:23:40] DEPRECATION WARNING: please use MorganGenerator\n",
      "[11:23:40] DEPRECATION WARNING: please use MorganGenerator\n",
      "[11:23:40] DEPRECATION WARNING: please use MorganGenerator\n",
      "[11:23:40] DEPRECATION WARNING: please use MorganGenerator\n",
      "[11:23:40] DEPRECATION WARNING: please use MorganGenerator\n",
      "[11:23:40] DEPRECATION WARNING: please use MorganGenerator\n",
      "[11:23:40] DEPRECATION WARNING: please use MorganGenerator\n",
      "[11:23:40] DEPRECATION WARNING: please use MorganGenerator\n",
      "[11:23:40] DEPRECATION WARNING: please use MorganGenerator\n",
      "[11:23:40] DEPRECATION WARNING: please use MorganGenerator\n",
      "[11:23:40] DEPRECATION WARNING: please use MorganGenerator\n",
      "[11:23:40] DEPRECATION WARNING: please use MorganGenerator\n",
      "[11:23:40] DEPRECATION WARNING: please use MorganGenerator\n",
      "[11:23:40] DEPRECATION WARNING: please use MorganGenerator\n",
      "[11:23:40] DEPRECATION WARNING: please use MorganGenerator\n",
      "[11:23:40] DEPRECATION WARNING: please use MorganGenerator\n",
      "[11:23:40] DEPRECATION WARNING: please use MorganGenerator\n",
      "[11:23:40] DEPRECATION WARNING: please use MorganGenerator\n",
      "[11:23:40] DEPRECATION WARNING: please use MorganGenerator\n",
      "[11:23:40] DEPRECATION WARNING: please use MorganGenerator\n",
      "[11:23:40] DEPRECATION WARNING: please use MorganGenerator\n",
      "[11:23:40] DEPRECATION WARNING: please use MorganGenerator\n",
      "[11:23:40] DEPRECATION WARNING: please use MorganGenerator\n",
      "[11:23:40] DEPRECATION WARNING: please use MorganGenerator\n",
      "[11:23:40] DEPRECATION WARNING: please use MorganGenerator\n",
      "[11:23:40] DEPRECATION WARNING: please use MorganGenerator\n",
      "[11:23:40] DEPRECATION WARNING: please use MorganGenerator\n",
      "[11:23:40] DEPRECATION WARNING: please use MorganGenerator\n",
      "[11:23:40] DEPRECATION WARNING: please use MorganGenerator\n",
      "[11:23:40] DEPRECATION WARNING: please use MorganGenerator\n",
      "[11:23:40] DEPRECATION WARNING: please use MorganGenerator\n",
      "[11:23:40] DEPRECATION WARNING: please use MorganGenerator\n",
      "[11:23:40] DEPRECATION WARNING: please use MorganGenerator\n",
      "[11:23:40] DEPRECATION WARNING: please use MorganGenerator\n",
      "[11:23:40] DEPRECATION WARNING: please use MorganGenerator\n",
      "[11:23:40] DEPRECATION WARNING: please use MorganGenerator\n",
      "[11:23:40] DEPRECATION WARNING: please use MorganGenerator\n",
      "[11:23:40] DEPRECATION WARNING: please use MorganGenerator\n",
      "[11:23:40] DEPRECATION WARNING: please use MorganGenerator\n",
      "[11:23:40] DEPRECATION WARNING: please use MorganGenerator\n",
      "[11:23:40] DEPRECATION WARNING: please use MorganGenerator\n",
      "[11:23:40] DEPRECATION WARNING: please use MorganGenerator\n",
      "[11:23:40] DEPRECATION WARNING: please use MorganGenerator\n",
      "[11:23:40] DEPRECATION WARNING: please use MorganGenerator\n",
      "[11:23:40] DEPRECATION WARNING: please use MorganGenerator\n",
      "[11:23:40] DEPRECATION WARNING: please use MorganGenerator\n",
      "[11:23:40] DEPRECATION WARNING: please use MorganGenerator\n",
      "[11:23:40] DEPRECATION WARNING: please use MorganGenerator\n",
      "[11:23:40] DEPRECATION WARNING: please use MorganGenerator\n",
      "[11:23:40] DEPRECATION WARNING: please use MorganGenerator\n",
      "[11:23:40] DEPRECATION WARNING: please use MorganGenerator\n",
      "[11:23:40] DEPRECATION WARNING: please use MorganGenerator\n",
      "[11:23:40] DEPRECATION WARNING: please use MorganGenerator\n",
      "[11:23:40] DEPRECATION WARNING: please use MorganGenerator\n",
      "[11:23:40] DEPRECATION WARNING: please use MorganGenerator\n",
      "[11:23:40] DEPRECATION WARNING: please use MorganGenerator\n",
      "[11:23:40] DEPRECATION WARNING: please use MorganGenerator\n",
      "[11:23:40] DEPRECATION WARNING: please use MorganGenerator\n",
      "[11:23:40] DEPRECATION WARNING: please use MorganGenerator\n",
      "[11:23:40] DEPRECATION WARNING: please use MorganGenerator\n",
      "[11:23:40] DEPRECATION WARNING: please use MorganGenerator\n",
      "[11:23:40] DEPRECATION WARNING: please use MorganGenerator\n",
      "[11:23:40] DEPRECATION WARNING: please use MorganGenerator\n",
      "[11:23:40] DEPRECATION WARNING: please use MorganGenerator\n",
      "[11:23:40] DEPRECATION WARNING: please use MorganGenerator\n",
      "[11:23:40] DEPRECATION WARNING: please use MorganGenerator\n",
      "[11:23:40] DEPRECATION WARNING: please use MorganGenerator\n",
      "[11:23:40] DEPRECATION WARNING: please use MorganGenerator\n",
      "[11:23:40] DEPRECATION WARNING: please use MorganGenerator\n",
      "[11:23:40] DEPRECATION WARNING: please use MorganGenerator\n",
      "[11:23:40] DEPRECATION WARNING: please use MorganGenerator\n",
      "[11:23:40] DEPRECATION WARNING: please use MorganGenerator\n",
      "[11:23:40] DEPRECATION WARNING: please use MorganGenerator\n",
      "[11:23:40] DEPRECATION WARNING: please use MorganGenerator\n",
      "[11:23:40] DEPRECATION WARNING: please use MorganGenerator\n",
      "[11:23:40] DEPRECATION WARNING: please use MorganGenerator\n",
      "[11:23:40] DEPRECATION WARNING: please use MorganGenerator\n",
      "[11:23:40] DEPRECATION WARNING: please use MorganGenerator\n",
      "[11:23:40] DEPRECATION WARNING: please use MorganGenerator\n",
      "[11:23:40] DEPRECATION WARNING: please use MorganGenerator\n",
      "[11:23:40] DEPRECATION WARNING: please use MorganGenerator\n",
      "[11:23:40] DEPRECATION WARNING: please use MorganGenerator\n",
      "[11:23:40] DEPRECATION WARNING: please use MorganGenerator\n",
      "[11:23:40] DEPRECATION WARNING: please use MorganGenerator\n",
      "[11:23:40] DEPRECATION WARNING: please use MorganGenerator\n",
      "[11:23:40] DEPRECATION WARNING: please use MorganGenerator\n",
      "[11:23:40] DEPRECATION WARNING: please use MorganGenerator\n",
      "[11:23:40] DEPRECATION WARNING: please use MorganGenerator\n",
      "[11:23:40] DEPRECATION WARNING: please use MorganGenerator\n",
      "[11:23:40] DEPRECATION WARNING: please use MorganGenerator\n",
      "[11:23:40] DEPRECATION WARNING: please use MorganGenerator\n",
      "[11:23:40] DEPRECATION WARNING: please use MorganGenerator\n",
      "[11:23:40] DEPRECATION WARNING: please use MorganGenerator\n",
      "[11:23:40] DEPRECATION WARNING: please use MorganGenerator\n",
      "[11:23:40] DEPRECATION WARNING: please use MorganGenerator\n",
      "[11:23:40] DEPRECATION WARNING: please use MorganGenerator\n",
      "[11:23:40] DEPRECATION WARNING: please use MorganGenerator\n",
      "[11:23:40] DEPRECATION WARNING: please use MorganGenerator\n"
     ]
    }
   ],
   "source": [
    "train_dataset, validation_dataset, test_dataset = get_data(n_fold = config[\"env\"][\"fold\"],\n",
    "                                                           fp_radius = config[\"features\"][\"fp_radius\"])\n",
    "\n"
   ]
  },
  {
   "cell_type": "code",
   "execution_count": 5,
   "id": "398b634c",
   "metadata": {},
   "outputs": [
    {
     "name": "stdout",
     "output_type": "stream",
     "text": [
      "torch.Size([325])\n",
      "torch.Size([325])\n",
      "Drug Features Shape: torch.Size([323, 2048])\n",
      "Cell Features Shape: torch.Size([323, 777])\n",
      "Labels Shape: torch.Size([323])\n",
      "Target Shape: torch.Size([323])\n",
      "Drug Index Shape: torch.Size([323])\n",
      "Cell Indices Shape: torch.Size([323])\n"
     ]
    }
   ],
   "source": [
    "cell_features, drug_features, target, drug_index, cell_indices, labels = train_dataset[4]\n",
    "\n",
    "ins = train_dataset[7]\n",
    "print(ins[5].shape)\n",
    "print(ins[4].shape)\n",
    "\n",
    "print(\"Drug Features Shape:\", drug_features.shape)\n",
    "print(\"Cell Features Shape:\", cell_features.shape)  \n",
    "print(\"Labels Shape:\", labels.shape)\n",
    "print(\"Target Shape:\", target.shape)               \n",
    "print(\"Drug Index Shape:\", drug_index.shape)      \n",
    "print(\"Cell Indices Shape:\", cell_indices.shape) \n",
    "\n",
    "\n"
   ]
  },
  {
   "cell_type": "code",
   "execution_count": null,
   "id": "810f51ad",
   "metadata": {},
   "outputs": [],
   "source": [
    "\n",
    "def collate_fn_custom(batch):\n",
    "    omics = []\n",
    "    drugs = []\n",
    "    targets = []\n",
    "    cell_ids = []\n",
    "    drug_ids = []\n",
    "    labels = [] \n",
    "\n",
    "    for o, d, t, cid, did, r in batch:\n",
    "        omics.append(o)  # Add each omics tensor\n",
    "        drugs.append(d)  # Add each drugs tensor\n",
    "        targets.append(t)  # Add each target tensor\n",
    "        cell_ids.append(cid)  # Add each cell ID tensor\n",
    "        drug_ids.append(did)  # Add each drug ID tensor\n",
    "        labels.append(r)  # Add each label tensor\n",
    "\n",
    "    # Concatenate along the first dimension for all tensors\n",
    "    omics = torch.cat(omics, dim=0)\n",
    "    drugs = torch.cat(drugs, dim=0)\n",
    "    targets = torch.cat(targets, dim=0)\n",
    "    cell_ids = torch.cat(cell_ids, dim=0)\n",
    "    drug_ids = torch.cat(drug_ids, dim=0)\n",
    "    labels = torch.cat(labels, dim=0)\n",
    "\n",
    "    return omics, drugs, targets, cell_ids, drug_ids, labels\n"
   ]
  },
  {
   "cell_type": "markdown",
   "id": "e6eca57c-2e0a-42e6-8c9c-38b2ea9cb19c",
   "metadata": {},
   "source": [
    "# Hyperparameter optimization\n",
    "\n",
    "we wrap the function for training the model in a function that can be used by optuna"
   ]
  },
  {
   "cell_type": "code",
   "execution_count": 6,
   "id": "58f25cf7-b977-48da-b569-8d231a6ac8d6",
   "metadata": {},
   "outputs": [],
   "source": [
    "def train_model_optuna(trial, config):\n",
    "    def pruning_callback(epoch, train_r):\n",
    "        trial.report(train_r, step = epoch)\n",
    "        if np.isnan(train_r):\n",
    "            raise optuna.TrialPruned()\n",
    "        if trial.should_prune():\n",
    "            raise optuna.TrialPruned()\n",
    "    config[\"model\"] = {\"embed_dim\": trial.suggest_int(\"embed_dim\", 64, 512),\n",
    "                    \"hidden_dim\": trial.suggest_int(\"hidden_dim\", 64, 2048),\n",
    "                    \"n_layers\": trial.suggest_int(\"n_layers\", 1, 6),\n",
    "                    \"norm\": trial.suggest_categorical(\"norm\", [\"batchnorm\", \"layernorm\", None]),\n",
    "                    \"dropout\": trial.suggest_float(\"dropout\", 0.0, 0.5)}\n",
    "    config[\"optimizer\"] = { \"learning_rate\": trial.suggest_float(\"learning_rate\", 1e-6, 1e-1, log=True),\n",
    "                            \"clip_norm\": trial.suggest_int(\"clip_norm\", 0.1, 20),\n",
    "                            \"batch_size\": trial.suggest_int(\"batch_size\", 2, 10),\n",
    "                            \"stopping_patience\":10}\n",
    "    try:\n",
    "        R, model = scripts.train_model(config,\n",
    "                                       train_dataset,\n",
    "                                       validation_dataset,\n",
    "                                       use_momentum=True,\n",
    "                                       callback_epoch = pruning_callback,\n",
    "                                       collate_fn=collate_fn_custom)\n",
    "        \n",
    "        return R\n",
    "    except Exception as e:\n",
    "        print(e)\n",
    "        return 0"
   ]
  },
  {
   "cell_type": "code",
   "execution_count": 26,
   "id": "5dbdd965",
   "metadata": {},
   "outputs": [],
   "source": [
    "'''\n",
    "def collate_fn_custom(batch):\n",
    "    import torch\n",
    "\n",
    "    omics = []\n",
    "    drugs = []\n",
    "    targets = []\n",
    "    cell_ids = []\n",
    "    drug_ids = []\n",
    "    labels = [] \n",
    "\n",
    "    for o, d, t, cid, did, r in batch:\n",
    "        omics.append(o)  # Add each omics tensor\n",
    "        drugs.append(d)  # Add each drugs tensor\n",
    "        targets.append(t)  # Add each target tensor\n",
    "        cell_ids.append(cid)  # Add each cell ID tensor\n",
    "        drug_ids.append(did)  # Add each drug ID tensor\n",
    "        labels.append(r)  # Add each label tensor\n",
    "\n",
    "    # Concatenate along the first dimension for all tensors\n",
    "    omics = torch.cat(omics, dim=0)\n",
    "    drugs = torch.cat(drugs, dim=0)\n",
    "    targets = torch.cat(targets, dim=0)\n",
    "    cell_ids = torch.cat(cell_ids, dim=0)\n",
    "    drug_ids = torch.cat(drug_ids, dim=0)\n",
    "    labels = torch.cat(labels, dim=0)\n",
    "\n",
    "    # Split each tensor into two halves\n",
    "    size = omics.size(0)\n",
    "    if size % 2 != 0:\n",
    "        omics = omics[:size - 1]\n",
    "        drugs = drugs[:size - 1]\n",
    "        targets = targets[:size - 1]\n",
    "        cell_ids = cell_ids[:size - 1]\n",
    "        drug_ids = drug_ids[:size - 1]\n",
    "        labels = labels[:size - 1]\n",
    "\n",
    "\n",
    "    mid_index = omics.size(0) // 2\n",
    "\n",
    "    # Combine the halves along the last dimension\n",
    "    \n",
    "    #omics_combined = torch.cat((omics[:mid_index], omics[mid_index:]), dim=-1)\n",
    "    #drugs_combined = torch.cat((drugs[:mid_index], drugs[mid_index:]), dim=-1)\n",
    "    #targets_combined = torch.cat((targets[:mid_index], targets[mid_index:]), dim=-1)\n",
    "    #cell_ids_combined = torch.cat((cell_ids[:mid_index], cell_ids[mid_index:]), dim=-1)\n",
    "    #drug_ids_combined = torch.cat((drug_ids[:mid_index], drug_ids[mid_index:]), dim=-1)\n",
    "    #labels_combined = torch.cat((labels[:mid_index], labels[mid_index:]), dim=-1)\n",
    "    \n",
    "    omics1 = omics[:mid_index]\n",
    "    omics2 = omics[mid_index:]\n",
    "    drugs1 = drugs[:mid_index]\n",
    "    drugs2 = drugs[mid_index:]\n",
    "    targets1 = targets[:mid_index]\n",
    "    targets2 = targets[mid_index:]\n",
    "    cell_ids1 = cell_ids[:mid_index]\n",
    "    cell_ids2 = cell_ids[mid_index:]\n",
    "    drug_ids1 = drug_ids[:mid_index]\n",
    "    drug_ids2 = drug_ids[mid_index:]\n",
    "    labels1 = labels[:mid_index]\n",
    "    labels2 = labels[mid_index:]\n",
    "\n",
    "    pairs = []    \n",
    "    for i in range(0,mid_index):\n",
    "        if labels1[i] == 0:\n",
    "            pairs.append(0)\n",
    "        elif labels2[i] == 0:\n",
    "            pairs.append(0)\n",
    "        elif labels1[i] == labels2[i]:\n",
    "            pairs.append(1) # positive pairs\n",
    "        else:\n",
    "            pairs.append(-1)  # negative pairs \n",
    "        \n",
    "    \n",
    "\n",
    "\n",
    "\n",
    "    return omics1, drugs1, targets1, cell_ids1, drug_ids1, labels1, omics2, drugs2, targets2, cell_ids2, drug_ids2, labels2, pairs\n",
    "'''"
   ]
  },
  {
   "cell_type": "code",
   "execution_count": null,
   "id": "a4d43272",
   "metadata": {},
   "outputs": [
    {
     "name": "stderr",
     "output_type": "stream",
     "text": [
      "[I 2025-01-29 11:36:46,310] Using an existing study with name 'baseline_model' instead of creating a new one.\n"
     ]
    },
    {
     "name": "stdout",
     "output_type": "stream",
     "text": [
      "'tuple' object has no attribute 'squeeze'\n"
     ]
    },
    {
     "name": "stderr",
     "output_type": "stream",
     "text": [
      "[I 2025-01-29 11:37:12,866] Trial 440 finished with value: 0.0 and parameters: {'embed_dim': 143, 'hidden_dim': 1199, 'n_layers': 6, 'norm': 'batchnorm', 'dropout': 0.3843137053806652, 'learning_rate': 0.016536121149937466, 'clip_norm': 0, 'batch_size': 8}. Best is trial 379 with value: 0.3149450400351803.\n",
      "[I 2025-01-29 11:37:23,147] Trial 441 finished with value: 0.0 and parameters: {'embed_dim': 261, 'hidden_dim': 684, 'n_layers': 1, 'norm': 'layernorm', 'dropout': 0.44167644863012967, 'learning_rate': 1.0239342840802722e-05, 'clip_norm': 7, 'batch_size': 10}. Best is trial 379 with value: 0.3149450400351803.\n"
     ]
    },
    {
     "name": "stdout",
     "output_type": "stream",
     "text": [
      "'tuple' object has no attribute 'squeeze'\n"
     ]
    },
    {
     "name": "stderr",
     "output_type": "stream",
     "text": [
      "[I 2025-01-29 11:37:36,428] Trial 442 finished with value: 0.0 and parameters: {'embed_dim': 242, 'hidden_dim': 899, 'n_layers': 3, 'norm': None, 'dropout': 0.05107493962554678, 'learning_rate': 1.6232107518432208e-06, 'clip_norm': 12, 'batch_size': 10}. Best is trial 379 with value: 0.3149450400351803.\n"
     ]
    },
    {
     "name": "stdout",
     "output_type": "stream",
     "text": [
      "'tuple' object has no attribute 'squeeze'\n"
     ]
    },
    {
     "name": "stderr",
     "output_type": "stream",
     "text": [
      "[I 2025-01-29 11:38:00,797] Trial 443 finished with value: 0.0 and parameters: {'embed_dim': 323, 'hidden_dim': 1270, 'n_layers': 5, 'norm': 'batchnorm', 'dropout': 0.271367200840901, 'learning_rate': 5.43934195510429e-06, 'clip_norm': 8, 'batch_size': 10}. Best is trial 379 with value: 0.3149450400351803.\n"
     ]
    },
    {
     "name": "stdout",
     "output_type": "stream",
     "text": [
      "'tuple' object has no attribute 'squeeze'\n"
     ]
    },
    {
     "name": "stderr",
     "output_type": "stream",
     "text": [
      "[I 2025-01-29 11:38:14,611] Trial 444 finished with value: 0.0 and parameters: {'embed_dim': 399, 'hidden_dim': 417, 'n_layers': 2, 'norm': 'layernorm', 'dropout': 0.17726656087816606, 'learning_rate': 7.502472654988606e-05, 'clip_norm': 2, 'batch_size': 10}. Best is trial 379 with value: 0.3149450400351803.\n"
     ]
    },
    {
     "name": "stdout",
     "output_type": "stream",
     "text": [
      "'tuple' object has no attribute 'squeeze'\n"
     ]
    },
    {
     "name": "stderr",
     "output_type": "stream",
     "text": [
      "[I 2025-01-29 11:38:57,047] Trial 445 finished with value: 0.0 and parameters: {'embed_dim': 484, 'hidden_dim': 1835, 'n_layers': 6, 'norm': None, 'dropout': 0.23934136373100728, 'learning_rate': 7.278708697276208e-06, 'clip_norm': 6, 'batch_size': 10}. Best is trial 379 with value: 0.3149450400351803.\n"
     ]
    },
    {
     "name": "stdout",
     "output_type": "stream",
     "text": [
      "'tuple' object has no attribute 'squeeze'\n"
     ]
    },
    {
     "name": "stderr",
     "output_type": "stream",
     "text": [
      "[I 2025-01-29 11:39:28,512] Trial 446 finished with value: 0.0 and parameters: {'embed_dim': 371, 'hidden_dim': 1544, 'n_layers': 4, 'norm': 'batchnorm', 'dropout': 0.06746828575507618, 'learning_rate': 0.000679874455054611, 'clip_norm': 5, 'batch_size': 10}. Best is trial 379 with value: 0.3149450400351803.\n"
     ]
    },
    {
     "name": "stdout",
     "output_type": "stream",
     "text": [
      "'tuple' object has no attribute 'squeeze'\n"
     ]
    },
    {
     "name": "stderr",
     "output_type": "stream",
     "text": [
      "[I 2025-01-29 11:39:59,499] Trial 447 finished with value: 0.0 and parameters: {'embed_dim': 418, 'hidden_dim': 1620, 'n_layers': 5, 'norm': 'layernorm', 'dropout': 0.07941659447092617, 'learning_rate': 3.301994818743923e-06, 'clip_norm': 18, 'batch_size': 10}. Best is trial 379 with value: 0.3149450400351803.\n"
     ]
    },
    {
     "name": "stdout",
     "output_type": "stream",
     "text": [
      "'tuple' object has no attribute 'squeeze'\n"
     ]
    },
    {
     "name": "stderr",
     "output_type": "stream",
     "text": [
      "[I 2025-01-29 11:40:14,542] Trial 448 finished with value: 0.0 and parameters: {'embed_dim': 501, 'hidden_dim': 578, 'n_layers': 2, 'norm': None, 'dropout': 0.31434577481329384, 'learning_rate': 0.029754939806525237, 'clip_norm': 11, 'batch_size': 10}. Best is trial 379 with value: 0.3149450400351803.\n"
     ]
    },
    {
     "name": "stdout",
     "output_type": "stream",
     "text": [
      "'tuple' object has no attribute 'squeeze'\n"
     ]
    },
    {
     "name": "stderr",
     "output_type": "stream",
     "text": [
      "[I 2025-01-29 11:40:33,544] Trial 449 finished with value: 0.0 and parameters: {'embed_dim': 86, 'hidden_dim': 1965, 'n_layers': 3, 'norm': 'batchnorm', 'dropout': 0.29898780662557106, 'learning_rate': 2.1581724401307466e-06, 'clip_norm': 20, 'batch_size': 10}. Best is trial 379 with value: 0.3149450400351803.\n"
     ]
    },
    {
     "name": "stdout",
     "output_type": "stream",
     "text": [
      "'tuple' object has no attribute 'squeeze'\n"
     ]
    },
    {
     "name": "stderr",
     "output_type": "stream",
     "text": [
      "[I 2025-01-29 11:40:44,693] Trial 450 finished with value: 0.0 and parameters: {'embed_dim': 267, 'hidden_dim': 2042, 'n_layers': 1, 'norm': 'layernorm', 'dropout': 0.3484875286693332, 'learning_rate': 1.3608322362620205e-06, 'clip_norm': 14, 'batch_size': 10}. Best is trial 379 with value: 0.3149450400351803.\n"
     ]
    },
    {
     "name": "stdout",
     "output_type": "stream",
     "text": [
      "'tuple' object has no attribute 'squeeze'\n"
     ]
    },
    {
     "name": "stderr",
     "output_type": "stream",
     "text": [
      "[I 2025-01-29 11:41:11,049] Trial 451 finished with value: 0.0 and parameters: {'embed_dim': 348, 'hidden_dim': 1760, 'n_layers': 4, 'norm': None, 'dropout': 0.15052937542094907, 'learning_rate': 4.397980651010733e-05, 'clip_norm': 4, 'batch_size': 10}. Best is trial 379 with value: 0.3149450400351803.\n"
     ]
    },
    {
     "name": "stdout",
     "output_type": "stream",
     "text": [
      "'tuple' object has no attribute 'squeeze'\n"
     ]
    },
    {
     "name": "stderr",
     "output_type": "stream",
     "text": [
      "[I 2025-01-29 11:41:42,746] Trial 452 finished with value: 0.0 and parameters: {'embed_dim': 149, 'hidden_dim': 1886, 'n_layers': 6, 'norm': 'layernorm', 'dropout': 0.10626788019512035, 'learning_rate': 0.08430341634683529, 'clip_norm': 19, 'batch_size': 10}. Best is trial 379 with value: 0.3149450400351803.\n"
     ]
    },
    {
     "name": "stdout",
     "output_type": "stream",
     "text": [
      "'tuple' object has no attribute 'squeeze'\n"
     ]
    },
    {
     "name": "stderr",
     "output_type": "stream",
     "text": [
      "[I 2025-01-29 11:42:03,049] Trial 453 finished with value: 0.0 and parameters: {'embed_dim': 188, 'hidden_dim': 1437, 'n_layers': 4, 'norm': 'batchnorm', 'dropout': 0.42203488845827825, 'learning_rate': 4.590221045007482e-06, 'clip_norm': 8, 'batch_size': 10}. Best is trial 379 with value: 0.3149450400351803.\n"
     ]
    },
    {
     "name": "stdout",
     "output_type": "stream",
     "text": [
      "'tuple' object has no attribute 'squeeze'\n"
     ]
    },
    {
     "name": "stderr",
     "output_type": "stream",
     "text": [
      "[I 2025-01-29 11:42:15,439] Trial 454 finished with value: 0.0 and parameters: {'embed_dim': 219, 'hidden_dim': 1233, 'n_layers': 2, 'norm': None, 'dropout': 0.04874161811992537, 'learning_rate': 2.326101907592821e-05, 'clip_norm': 3, 'batch_size': 10}. Best is trial 379 with value: 0.3149450400351803.\n"
     ]
    },
    {
     "name": "stdout",
     "output_type": "stream",
     "text": [
      "'tuple' object has no attribute 'squeeze'\n"
     ]
    },
    {
     "name": "stderr",
     "output_type": "stream",
     "text": [
      "[I 2025-01-29 11:42:30,637] Trial 455 finished with value: 0.0 and parameters: {'embed_dim': 163, 'hidden_dim': 1487, 'n_layers': 3, 'norm': 'layernorm', 'dropout': 0.4095226473976821, 'learning_rate': 8.741126928797564e-06, 'clip_norm': 18, 'batch_size': 10}. Best is trial 379 with value: 0.3149450400351803.\n"
     ]
    },
    {
     "name": "stdout",
     "output_type": "stream",
     "text": [
      "'tuple' object has no attribute 'squeeze'\n"
     ]
    },
    {
     "name": "stderr",
     "output_type": "stream",
     "text": [
      "[I 2025-01-29 11:42:59,555] Trial 456 finished with value: 0.0 and parameters: {'embed_dim': 409, 'hidden_dim': 1357, 'n_layers': 5, 'norm': 'batchnorm', 'dropout': 0.19988781837343222, 'learning_rate': 1.4495020685863254e-05, 'clip_norm': 13, 'batch_size': 10}. Best is trial 379 with value: 0.3149450400351803.\n"
     ]
    },
    {
     "name": "stdout",
     "output_type": "stream",
     "text": [
      "'tuple' object has no attribute 'squeeze'\n",
      "'tuple' object has no attribute 'squeeze'\n"
     ]
    },
    {
     "name": "stderr",
     "output_type": "stream",
     "text": [
      "[I 2025-01-29 11:43:05,602] Trial 457 finished with value: 0.0 and parameters: {'embed_dim': 77, 'hidden_dim': 859, 'n_layers': 1, 'norm': 'layernorm', 'dropout': 0.03381489500102286, 'learning_rate': 0.00011579814897977366, 'clip_norm': 4, 'batch_size': 10}. Best is trial 379 with value: 0.3149450400351803.\n",
      "[I 2025-01-29 11:43:26,197] Trial 458 finished with value: 0.0 and parameters: {'embed_dim': 438, 'hidden_dim': 1800, 'n_layers': 2, 'norm': None, 'dropout': 0.2554275231827138, 'learning_rate': 0.012032704393884533, 'clip_norm': 17, 'batch_size': 5}. Best is trial 379 with value: 0.3149450400351803.\n"
     ]
    },
    {
     "name": "stdout",
     "output_type": "stream",
     "text": [
      "'tuple' object has no attribute 'squeeze'\n"
     ]
    },
    {
     "name": "stderr",
     "output_type": "stream",
     "text": [
      "[I 2025-01-29 11:43:57,875] Trial 459 finished with value: 0.0 and parameters: {'embed_dim': 381, 'hidden_dim': 1289, 'n_layers': 4, 'norm': 'batchnorm', 'dropout': 0.2261495690894432, 'learning_rate': 0.001297473970520731, 'clip_norm': 10, 'batch_size': 10}. Best is trial 379 with value: 0.3149450400351803.\n"
     ]
    },
    {
     "name": "stdout",
     "output_type": "stream",
     "text": [
      "'tuple' object has no attribute 'squeeze'\n"
     ]
    },
    {
     "name": "stderr",
     "output_type": "stream",
     "text": [
      "[I 2025-01-29 11:44:06,883] Trial 460 finished with value: 0.0 and parameters: {'embed_dim': 64, 'hidden_dim': 160, 'n_layers': 3, 'norm': 'layernorm', 'dropout': 0.12213504661406405, 'learning_rate': 1.2541336753375493e-06, 'clip_norm': 1, 'batch_size': 10}. Best is trial 379 with value: 0.3149450400351803.\n"
     ]
    },
    {
     "name": "stdout",
     "output_type": "stream",
     "text": [
      "'tuple' object has no attribute 'squeeze'\n"
     ]
    },
    {
     "name": "stderr",
     "output_type": "stream",
     "text": [
      "[I 2025-01-29 11:44:24,848] Trial 461 finished with value: 0.0 and parameters: {'embed_dim': 490, 'hidden_dim': 69, 'n_layers': 5, 'norm': None, 'dropout': 0.01259988421949989, 'learning_rate': 0.002610018626556538, 'clip_norm': 6, 'batch_size': 10}. Best is trial 379 with value: 0.3149450400351803.\n"
     ]
    },
    {
     "name": "stdout",
     "output_type": "stream",
     "text": [
      "'tuple' object has no attribute 'squeeze'\n",
      "'tuple' object has no attribute 'squeeze'\n"
     ]
    },
    {
     "name": "stderr",
     "output_type": "stream",
     "text": [
      "[I 2025-01-29 11:44:59,792] Trial 462 finished with value: 0.0 and parameters: {'embed_dim': 474, 'hidden_dim': 964, 'n_layers': 6, 'norm': 'batchnorm', 'dropout': 0.058865825518531506, 'learning_rate': 6.205667549511449e-05, 'clip_norm': 9, 'batch_size': 10}. Best is trial 379 with value: 0.3149450400351803.\n",
      "[I 2025-01-29 11:45:18,764] Trial 463 finished with value: 0.0 and parameters: {'embed_dim': 115, 'hidden_dim': 1179, 'n_layers': 4, 'norm': 'layernorm', 'dropout': 0.042866192080393856, 'learning_rate': 2.731638805695992e-06, 'clip_norm': 5, 'batch_size': 9}. Best is trial 379 with value: 0.3149450400351803.\n"
     ]
    },
    {
     "name": "stdout",
     "output_type": "stream",
     "text": [
      "'tuple' object has no attribute 'squeeze'\n"
     ]
    },
    {
     "name": "stderr",
     "output_type": "stream",
     "text": [
      "[I 2025-01-29 11:45:37,289] Trial 464 finished with value: 0.0 and parameters: {'embed_dim': 251, 'hidden_dim': 1737, 'n_layers': 2, 'norm': None, 'dropout': 0.1639356664392741, 'learning_rate': 0.0018034225501766719, 'clip_norm': 0, 'batch_size': 10}. Best is trial 379 with value: 0.3149450400351803.\n"
     ]
    },
    {
     "name": "stdout",
     "output_type": "stream",
     "text": [
      "'tuple' object has no attribute 'squeeze'\n"
     ]
    },
    {
     "name": "stderr",
     "output_type": "stream",
     "text": [
      "[I 2025-01-29 11:46:15,919] Trial 465 finished with value: 0.0 and parameters: {'embed_dim': 335, 'hidden_dim': 1853, 'n_layers': 4, 'norm': 'batchnorm', 'dropout': 0.47611440580222514, 'learning_rate': 1.7895298358673322e-06, 'clip_norm': 3, 'batch_size': 10}. Best is trial 379 with value: 0.3149450400351803.\n"
     ]
    },
    {
     "name": "stdout",
     "output_type": "stream",
     "text": [
      "'tuple' object has no attribute 'squeeze'\n"
     ]
    },
    {
     "name": "stderr",
     "output_type": "stream",
     "text": [
      "[I 2025-01-29 11:46:42,232] Trial 466 finished with value: 0.0 and parameters: {'embed_dim': 298, 'hidden_dim': 1394, 'n_layers': 3, 'norm': 'layernorm', 'dropout': 0.023832555564478566, 'learning_rate': 1.1182457494874362e-05, 'clip_norm': 8, 'batch_size': 10}. Best is trial 379 with value: 0.3149450400351803.\n"
     ]
    },
    {
     "name": "stdout",
     "output_type": "stream",
     "text": [
      "'tuple' object has no attribute 'squeeze'\n"
     ]
    },
    {
     "name": "stderr",
     "output_type": "stream",
     "text": [
      "[I 2025-01-29 11:46:50,139] Trial 467 finished with value: 0.0 and parameters: {'embed_dim': 172, 'hidden_dim': 1675, 'n_layers': 1, 'norm': None, 'dropout': 0.2951588350455141, 'learning_rate': 4.981287665443853e-05, 'clip_norm': 2, 'batch_size': 10}. Best is trial 379 with value: 0.3149450400351803.\n"
     ]
    },
    {
     "name": "stdout",
     "output_type": "stream",
     "text": [
      "'tuple' object has no attribute 'squeeze'\n"
     ]
    },
    {
     "name": "stderr",
     "output_type": "stream",
     "text": [
      "[I 2025-01-29 11:47:28,174] Trial 468 finished with value: 0.0 and parameters: {'embed_dim': 133, 'hidden_dim': 1465, 'n_layers': 6, 'norm': 'batchnorm', 'dropout': 0.32560518290716983, 'learning_rate': 5.702662041440673e-06, 'clip_norm': 19, 'batch_size': 10}. Best is trial 379 with value: 0.3149450400351803.\n"
     ]
    },
    {
     "name": "stdout",
     "output_type": "stream",
     "text": [
      "'tuple' object has no attribute 'squeeze'\n"
     ]
    },
    {
     "name": "stderr",
     "output_type": "stream",
     "text": [
      "[I 2025-01-29 11:47:45,208] Trial 469 finished with value: 0.0 and parameters: {'embed_dim': 154, 'hidden_dim': 1991, 'n_layers': 2, 'norm': 'layernorm', 'dropout': 0.3068213829439692, 'learning_rate': 4.088551055561867e-06, 'clip_norm': 7, 'batch_size': 8}. Best is trial 379 with value: 0.3149450400351803.\n"
     ]
    },
    {
     "name": "stdout",
     "output_type": "stream",
     "text": [
      "'tuple' object has no attribute 'squeeze'\n"
     ]
    },
    {
     "name": "stderr",
     "output_type": "stream",
     "text": [
      "[I 2025-01-29 11:48:12,520] Trial 470 finished with value: 0.0 and parameters: {'embed_dim': 512, 'hidden_dim': 1517, 'n_layers': 3, 'norm': None, 'dropout': 0.2082919560964289, 'learning_rate': 1.8298378171102916e-05, 'clip_norm': 4, 'batch_size': 10}. Best is trial 379 with value: 0.3149450400351803.\n"
     ]
    },
    {
     "name": "stdout",
     "output_type": "stream",
     "text": [
      "'tuple' object has no attribute 'squeeze'\n"
     ]
    },
    {
     "name": "stderr",
     "output_type": "stream",
     "text": [
      "[I 2025-01-29 11:48:46,248] Trial 471 finished with value: 0.0 and parameters: {'embed_dim': 288, 'hidden_dim': 1910, 'n_layers': 4, 'norm': 'batchnorm', 'dropout': 0.0625917757491359, 'learning_rate': 0.005824544863249496, 'clip_norm': 18, 'batch_size': 10}. Best is trial 379 with value: 0.3149450400351803.\n"
     ]
    },
    {
     "name": "stdout",
     "output_type": "stream",
     "text": [
      "'tuple' object has no attribute 'squeeze'\n"
     ]
    }
   ],
   "source": [
    "\n",
    "\n",
    "\n",
    "if config[\"env\"][\"search_hyperparameters\"]:\n",
    "    study_name = f\"baseline_model\"\n",
    "    storage_name = \"sqlite:///studies/{}.db\".format(study_name)\n",
    "    study = optuna.create_study(study_name=study_name,\n",
    "                                storage=storage_name,\n",
    "                                direction='maximize',\n",
    "                                load_if_exists=True,\n",
    "                                pruner=optuna.pruners.MedianPruner(n_startup_trials=30,\n",
    "                                                               n_warmup_steps=5,\n",
    "                                                               interval_steps=5))\n",
    "    objective = lambda x: train_model_optuna(x, config)\n",
    "    study.optimize(objective, n_trials=40)\n",
    "    best_config = study.best_params\n",
    "    print(best_config)\n",
    "    config[\"model\"][\"embed_dim\"] = best_config[\"embed_dim\"]\n",
    "    config[\"model\"][\"hidden_dim\"] = best_config[\"hidden_dim\"]\n",
    "    config[\"model\"][\"n_layers\"] = best_config[\"n_layers\"]\n",
    "    config[\"model\"][\"norm\"] = best_config[\"norm\"]\n",
    "    config[\"model\"][\"dropout\"] = best_config[\"dropout\"]\n",
    "    config[\"optimizer\"][\"learning_rate\"] = best_config[\"learning_rate\"]\n",
    "    config[\"optimizer\"][\"clip_norm\"] = best_config[\"clip_norm\"]\n",
    "    config[\"optimizer\"][\"batch_size\"] = best_config[\"batch_size\"]\n",
    "\n"
   ]
  },
  {
   "cell_type": "markdown",
   "id": "620070ab-de87-486d-8a14-ca3791ff2803",
   "metadata": {},
   "source": [
    "# Model training and evaluation\n",
    "\n",
    "After we have a set of optimal hyperparameters we train our model. The train model function could be changed, but:\n",
    "- test_dataset cannot be used until we call the final evaluation step\n",
    "- the evaluation step cannot be modified, it must take the model produced by your pipeline, a dataloader that provides the correct data for your model, and the final metrics have to be printed"
   ]
  },
  {
   "cell_type": "code",
   "execution_count": 5,
   "id": "eb711703",
   "metadata": {},
   "outputs": [],
   "source": [
    "\n",
    "\n"
   ]
  },
  {
   "cell_type": "code",
   "execution_count": 9,
   "id": "d8e603f6-c81a-4cb1-8c1b-d1d834a94169",
   "metadata": {},
   "outputs": [
    {
     "name": "stdout",
     "output_type": "stream",
     "text": [
      "epoch : 0: train loss: 9.693892140542307 Smoothed R interaction (validation) None\n",
      "epoch : 1: train loss: 7.8705514015689975 Smoothed R interaction (validation) None\n",
      "epoch : 2: train loss: 7.202351277874362 Smoothed R interaction (validation) None\n",
      "epoch : 3: train loss: 6.6356829558649375 Smoothed R interaction (validation) None\n",
      "epoch : 4: train loss: 6.731945237805767 Smoothed R interaction (validation) None\n",
      "epoch : 5: train loss: 6.667819669169765 Smoothed R interaction (validation) None\n"
     ]
    },
    {
     "ename": "KeyboardInterrupt",
     "evalue": "",
     "output_type": "error",
     "traceback": [
      "\u001b[0;31m---------------------------------------------------------------------------\u001b[0m",
      "\u001b[0;31mKeyboardInterrupt\u001b[0m                         Traceback (most recent call last)",
      "Cell \u001b[0;32mIn[9], line 7\u001b[0m\n\u001b[1;32m      3\u001b[0m get_ipython()\u001b[38;5;241m.\u001b[39mrun_line_magic(\u001b[38;5;124m'\u001b[39m\u001b[38;5;124mreload_ext\u001b[39m\u001b[38;5;124m'\u001b[39m, \u001b[38;5;124m'\u001b[39m\u001b[38;5;124mautoreload\u001b[39m\u001b[38;5;124m'\u001b[39m)\n\u001b[1;32m      5\u001b[0m get_ipython()\u001b[38;5;241m.\u001b[39mrun_line_magic(\u001b[38;5;124m'\u001b[39m\u001b[38;5;124mautoreload\u001b[39m\u001b[38;5;124m'\u001b[39m, \u001b[38;5;124m'\u001b[39m\u001b[38;5;124m2\u001b[39m\u001b[38;5;124m'\u001b[39m)\n\u001b[0;32m----> 7\u001b[0m _, model \u001b[38;5;241m=\u001b[39m \u001b[43mscripts\u001b[49m\u001b[38;5;241;43m.\u001b[39;49m\u001b[43mtrain_model\u001b[49m\u001b[43m(\u001b[49m\u001b[43mconfig\u001b[49m\u001b[43m,\u001b[49m\u001b[43m \u001b[49m\u001b[43mtrain_dataset\u001b[49m\u001b[43m,\u001b[49m\u001b[43m  \u001b[49m\u001b[43mvalidation_dataset\u001b[49m\u001b[38;5;241;43m=\u001b[39;49m\u001b[38;5;28;43;01mNone\u001b[39;49;00m\u001b[43m,\u001b[49m\u001b[43m \u001b[49m\u001b[43muse_momentum\u001b[49m\u001b[38;5;241;43m=\u001b[39;49m\u001b[38;5;28;43;01mTrue\u001b[39;49;00m\u001b[43m,\u001b[49m\u001b[43m \u001b[49m\u001b[43mcallback_epoch\u001b[49m\u001b[38;5;241;43m=\u001b[39;49m\u001b[38;5;28;43;01mNone\u001b[39;49;00m\u001b[43m,\u001b[49m\u001b[43m \u001b[49m\u001b[43mcollate_fn\u001b[49m\u001b[38;5;241;43m=\u001b[39;49m\u001b[43mcollate_fn_custom\u001b[49m\u001b[43m)\u001b[49m\n\u001b[1;32m      8\u001b[0m device \u001b[38;5;241m=\u001b[39m torch\u001b[38;5;241m.\u001b[39mdevice(config[\u001b[38;5;124m\"\u001b[39m\u001b[38;5;124menv\u001b[39m\u001b[38;5;124m\"\u001b[39m][\u001b[38;5;124m\"\u001b[39m\u001b[38;5;124mdevice\u001b[39m\u001b[38;5;124m\"\u001b[39m])\n\u001b[1;32m      9\u001b[0m metrics \u001b[38;5;241m=\u001b[39m torchmetrics\u001b[38;5;241m.\u001b[39mMetricTracker(torchmetrics\u001b[38;5;241m.\u001b[39mMetricCollection(\n\u001b[1;32m     10\u001b[0m     {\u001b[38;5;124m\"\u001b[39m\u001b[38;5;124mR_cellwise_residuals\u001b[39m\u001b[38;5;124m\"\u001b[39m:scripts\u001b[38;5;241m.\u001b[39mGroupwiseMetric(metric\u001b[38;5;241m=\u001b[39mtorchmetrics\u001b[38;5;241m.\u001b[39mfunctional\u001b[38;5;241m.\u001b[39mpearson_corrcoef,\n\u001b[1;32m     11\u001b[0m                           grouping\u001b[38;5;241m=\u001b[39m\u001b[38;5;124m\"\u001b[39m\u001b[38;5;124mdrugs\u001b[39m\u001b[38;5;124m\"\u001b[39m,\n\u001b[0;32m   (...)\u001b[0m\n\u001b[1;32m     17\u001b[0m                           residualize\u001b[38;5;241m=\u001b[39m\u001b[38;5;28;01mFalse\u001b[39;00m),\n\u001b[1;32m     18\u001b[0m     \u001b[38;5;124m\"\u001b[39m\u001b[38;5;124mMSE\u001b[39m\u001b[38;5;124m\"\u001b[39m:torchmetrics\u001b[38;5;241m.\u001b[39mMeanSquaredError()}))\n",
      "File \u001b[0;32m~/PROJECT_repo/scripts/models.py:276\u001b[0m, in \u001b[0;36mtrain_model\u001b[0;34m(config, train_dataset, validation_dataset, use_momentum, callback_epoch, collate_fn)\u001b[0m\n\u001b[1;32m    274\u001b[0m use_momentum \u001b[38;5;241m=\u001b[39m \u001b[38;5;28;01mTrue\u001b[39;00m    \n\u001b[1;32m    275\u001b[0m \u001b[38;5;28;01mfor\u001b[39;00m epoch \u001b[38;5;129;01min\u001b[39;00m \u001b[38;5;28mrange\u001b[39m(config[\u001b[38;5;124m\"\u001b[39m\u001b[38;5;124menv\u001b[39m\u001b[38;5;124m\"\u001b[39m][\u001b[38;5;124m\"\u001b[39m\u001b[38;5;124mmax_epochs\u001b[39m\u001b[38;5;124m\"\u001b[39m]):\n\u001b[0;32m--> 276\u001b[0m     train_loss \u001b[38;5;241m=\u001b[39m \u001b[43mtrain_step\u001b[49m\u001b[43m(\u001b[49m\u001b[43mmodel\u001b[49m\u001b[43m,\u001b[49m\u001b[43m \u001b[49m\u001b[43moptimizer\u001b[49m\u001b[43m,\u001b[49m\u001b[43m \u001b[49m\u001b[43mtrain_loader\u001b[49m\u001b[43m,\u001b[49m\u001b[43m \u001b[49m\u001b[43mconfig\u001b[49m\u001b[43m,\u001b[49m\u001b[43m \u001b[49m\u001b[43mdevice\u001b[49m\u001b[43m)\u001b[49m\n\u001b[1;32m    277\u001b[0m     lr_scheduler\u001b[38;5;241m.\u001b[39mstep(train_loss)\n\u001b[1;32m    278\u001b[0m     \u001b[38;5;28;01mif\u001b[39;00m validation_dataset \u001b[38;5;129;01mis\u001b[39;00m \u001b[38;5;129;01mnot\u001b[39;00m \u001b[38;5;28;01mNone\u001b[39;00m:\n",
      "File \u001b[0;32m~/PROJECT_repo/scripts/models.py:233\u001b[0m, in \u001b[0;36mtrain_step\u001b[0;34m(model, optimizer, loader, config, device)\u001b[0m\n\u001b[1;32m    231\u001b[0m optimizer\u001b[38;5;241m.\u001b[39mzero_grad()\n\u001b[1;32m    232\u001b[0m out1, v1 \u001b[38;5;241m=\u001b[39m model(x[\u001b[38;5;241m0\u001b[39m]\u001b[38;5;241m.\u001b[39mto(device), x[\u001b[38;5;241m1\u001b[39m]\u001b[38;5;241m.\u001b[39mto(device))\n\u001b[0;32m--> 233\u001b[0m c_l \u001b[38;5;241m=\u001b[39m \u001b[43mcontrastive_loss\u001b[49m\u001b[43m(\u001b[49m\u001b[43mv1\u001b[49m\u001b[43m,\u001b[49m\u001b[43m \u001b[49m\u001b[43mx\u001b[49m\u001b[43m[\u001b[49m\u001b[38;5;241;43m5\u001b[39;49m\u001b[43m]\u001b[49m\u001b[38;5;241;43m.\u001b[39;49m\u001b[43mto\u001b[49m\u001b[43m(\u001b[49m\u001b[43mdevice\u001b[49m\u001b[43m)\u001b[49m\u001b[38;5;241;43m.\u001b[39;49m\u001b[43msqueeze\u001b[49m\u001b[43m(\u001b[49m\u001b[43m)\u001b[49m\u001b[43m)\u001b[49m\n\u001b[1;32m    234\u001b[0m \u001b[38;5;66;03m# print(c_l)\u001b[39;00m\n\u001b[1;32m    235\u001b[0m l \u001b[38;5;241m=\u001b[39m loss(out1\u001b[38;5;241m.\u001b[39msqueeze(), x[\u001b[38;5;241m2\u001b[39m]\u001b[38;5;241m.\u001b[39mto(device)\u001b[38;5;241m.\u001b[39msqueeze())\n",
      "File \u001b[0;32m~/miniconda/envs/project_thesis/lib/python3.13/site-packages/torch/nn/modules/module.py:1736\u001b[0m, in \u001b[0;36mModule._wrapped_call_impl\u001b[0;34m(self, *args, **kwargs)\u001b[0m\n\u001b[1;32m   1734\u001b[0m     \u001b[38;5;28;01mreturn\u001b[39;00m \u001b[38;5;28mself\u001b[39m\u001b[38;5;241m.\u001b[39m_compiled_call_impl(\u001b[38;5;241m*\u001b[39margs, \u001b[38;5;241m*\u001b[39m\u001b[38;5;241m*\u001b[39mkwargs)  \u001b[38;5;66;03m# type: ignore[misc]\u001b[39;00m\n\u001b[1;32m   1735\u001b[0m \u001b[38;5;28;01melse\u001b[39;00m:\n\u001b[0;32m-> 1736\u001b[0m     \u001b[38;5;28;01mreturn\u001b[39;00m \u001b[38;5;28;43mself\u001b[39;49m\u001b[38;5;241;43m.\u001b[39;49m\u001b[43m_call_impl\u001b[49m\u001b[43m(\u001b[49m\u001b[38;5;241;43m*\u001b[39;49m\u001b[43margs\u001b[49m\u001b[43m,\u001b[49m\u001b[43m \u001b[49m\u001b[38;5;241;43m*\u001b[39;49m\u001b[38;5;241;43m*\u001b[39;49m\u001b[43mkwargs\u001b[49m\u001b[43m)\u001b[49m\n",
      "File \u001b[0;32m~/miniconda/envs/project_thesis/lib/python3.13/site-packages/torch/nn/modules/module.py:1747\u001b[0m, in \u001b[0;36mModule._call_impl\u001b[0;34m(self, *args, **kwargs)\u001b[0m\n\u001b[1;32m   1742\u001b[0m \u001b[38;5;66;03m# If we don't have any hooks, we want to skip the rest of the logic in\u001b[39;00m\n\u001b[1;32m   1743\u001b[0m \u001b[38;5;66;03m# this function, and just call forward.\u001b[39;00m\n\u001b[1;32m   1744\u001b[0m \u001b[38;5;28;01mif\u001b[39;00m \u001b[38;5;129;01mnot\u001b[39;00m (\u001b[38;5;28mself\u001b[39m\u001b[38;5;241m.\u001b[39m_backward_hooks \u001b[38;5;129;01mor\u001b[39;00m \u001b[38;5;28mself\u001b[39m\u001b[38;5;241m.\u001b[39m_backward_pre_hooks \u001b[38;5;129;01mor\u001b[39;00m \u001b[38;5;28mself\u001b[39m\u001b[38;5;241m.\u001b[39m_forward_hooks \u001b[38;5;129;01mor\u001b[39;00m \u001b[38;5;28mself\u001b[39m\u001b[38;5;241m.\u001b[39m_forward_pre_hooks\n\u001b[1;32m   1745\u001b[0m         \u001b[38;5;129;01mor\u001b[39;00m _global_backward_pre_hooks \u001b[38;5;129;01mor\u001b[39;00m _global_backward_hooks\n\u001b[1;32m   1746\u001b[0m         \u001b[38;5;129;01mor\u001b[39;00m _global_forward_hooks \u001b[38;5;129;01mor\u001b[39;00m _global_forward_pre_hooks):\n\u001b[0;32m-> 1747\u001b[0m     \u001b[38;5;28;01mreturn\u001b[39;00m \u001b[43mforward_call\u001b[49m\u001b[43m(\u001b[49m\u001b[38;5;241;43m*\u001b[39;49m\u001b[43margs\u001b[49m\u001b[43m,\u001b[49m\u001b[43m \u001b[49m\u001b[38;5;241;43m*\u001b[39;49m\u001b[38;5;241;43m*\u001b[39;49m\u001b[43mkwargs\u001b[49m\u001b[43m)\u001b[49m\n\u001b[1;32m   1749\u001b[0m result \u001b[38;5;241m=\u001b[39m \u001b[38;5;28;01mNone\u001b[39;00m\n\u001b[1;32m   1750\u001b[0m called_always_called_hooks \u001b[38;5;241m=\u001b[39m \u001b[38;5;28mset\u001b[39m()\n",
      "File \u001b[0;32m~/PROJECT_repo/scripts/models.py:206\u001b[0m, in \u001b[0;36mContrastiveMetapathLoss.forward\u001b[0;34m(self, x, y)\u001b[0m\n\u001b[1;32m    203\u001b[0m     cumsum \u001b[38;5;241m+\u001b[39m\u001b[38;5;241m=\u001b[39m ((sensitive\u001b[38;5;241m.\u001b[39munsqueeze(\u001b[38;5;241m-\u001b[39m\u001b[38;5;241m3\u001b[39m) \u001b[38;5;241m-\u001b[39m sensitive\u001b[38;5;241m.\u001b[39munsqueeze(\u001b[38;5;241m-\u001b[39m\u001b[38;5;241m2\u001b[39m))\u001b[38;5;241m*\u001b[39m\u001b[38;5;241m*\u001b[39m\u001b[38;5;241m2\u001b[39m)\u001b[38;5;241m.\u001b[39msum()\u001b[38;5;241m.\u001b[39msqrt() \u001b[38;5;241m/\u001b[39m (n_sensitive \u001b[38;5;241m*\u001b[39m n_sensitive)\n\u001b[1;32m    205\u001b[0m \u001b[38;5;28;01mif\u001b[39;00m n_resistant \u001b[38;5;241m>\u001b[39m \u001b[38;5;241m0\u001b[39m:\n\u001b[0;32m--> 206\u001b[0m     cumsum \u001b[38;5;241m+\u001b[39m\u001b[38;5;241m=\u001b[39m (\u001b[43m(\u001b[49m\u001b[43mresistant\u001b[49m\u001b[38;5;241;43m.\u001b[39;49m\u001b[43munsqueeze\u001b[49m\u001b[43m(\u001b[49m\u001b[38;5;241;43m-\u001b[39;49m\u001b[38;5;241;43m3\u001b[39;49m\u001b[43m)\u001b[49m\u001b[43m \u001b[49m\u001b[38;5;241;43m-\u001b[39;49m\u001b[43m \u001b[49m\u001b[43mresistant\u001b[49m\u001b[38;5;241;43m.\u001b[39;49m\u001b[43munsqueeze\u001b[49m\u001b[43m(\u001b[49m\u001b[38;5;241;43m-\u001b[39;49m\u001b[38;5;241;43m2\u001b[39;49m\u001b[43m)\u001b[49m\u001b[43m)\u001b[49m\u001b[38;5;241;43m*\u001b[39;49m\u001b[38;5;241;43m*\u001b[39;49m\u001b[38;5;241;43m2\u001b[39;49m)\u001b[38;5;241m.\u001b[39msum()\u001b[38;5;241m.\u001b[39msqrt() \u001b[38;5;241m/\u001b[39m (n_resistant \u001b[38;5;241m*\u001b[39m n_resistant)\n\u001b[1;32m    208\u001b[0m \u001b[38;5;28;01mif\u001b[39;00m n_sensitive \u001b[38;5;241m>\u001b[39m \u001b[38;5;241m0\u001b[39m \u001b[38;5;129;01mand\u001b[39;00m n_resistant \u001b[38;5;241m>\u001b[39m \u001b[38;5;241m0\u001b[39m:\n\u001b[1;32m    209\u001b[0m     cumsum \u001b[38;5;241m+\u001b[39m\u001b[38;5;241m=\u001b[39m \u001b[38;5;241m-\u001b[39m(((resistant\u001b[38;5;241m.\u001b[39munsqueeze(\u001b[38;5;241m-\u001b[39m\u001b[38;5;241m2\u001b[39m) \u001b[38;5;241m-\u001b[39m sensitive\u001b[38;5;241m.\u001b[39munsqueeze(\u001b[38;5;241m-\u001b[39m\u001b[38;5;241m3\u001b[39m))\u001b[38;5;241m*\u001b[39m\u001b[38;5;241m*\u001b[39m\u001b[38;5;241m2\u001b[39m)\u001b[38;5;241m.\u001b[39msum()\u001b[38;5;241m.\u001b[39msqrt()) \u001b[38;5;241m/\u001b[39m (n_resistant \u001b[38;5;241m*\u001b[39m n_sensitive) \n",
      "File \u001b[0;32m~/miniconda/envs/project_thesis/lib/python3.13/site-packages/torch/_tensor.py:39\u001b[0m, in \u001b[0;36m_handle_torch_function_and_wrap_type_error_to_not_implemented.<locals>.wrapped\u001b[0;34m(*args, **kwargs)\u001b[0m\n\u001b[1;32m     37\u001b[0m     \u001b[38;5;28;01mif\u001b[39;00m has_torch_function(args):\n\u001b[1;32m     38\u001b[0m         \u001b[38;5;28;01mreturn\u001b[39;00m handle_torch_function(wrapped, args, \u001b[38;5;241m*\u001b[39margs, \u001b[38;5;241m*\u001b[39m\u001b[38;5;241m*\u001b[39mkwargs)\n\u001b[0;32m---> 39\u001b[0m     \u001b[38;5;28;01mreturn\u001b[39;00m \u001b[43mf\u001b[49m\u001b[43m(\u001b[49m\u001b[38;5;241;43m*\u001b[39;49m\u001b[43margs\u001b[49m\u001b[43m,\u001b[49m\u001b[43m \u001b[49m\u001b[38;5;241;43m*\u001b[39;49m\u001b[38;5;241;43m*\u001b[39;49m\u001b[43mkwargs\u001b[49m\u001b[43m)\u001b[49m\n\u001b[1;32m     40\u001b[0m \u001b[38;5;28;01mexcept\u001b[39;00m \u001b[38;5;167;01mTypeError\u001b[39;00m:\n\u001b[1;32m     41\u001b[0m     \u001b[38;5;28;01mreturn\u001b[39;00m \u001b[38;5;28mNotImplemented\u001b[39m\n",
      "\u001b[0;31mKeyboardInterrupt\u001b[0m: "
     ]
    }
   ],
   "source": [
    "import scripts\n",
    "\n",
    "%reload_ext autoreload\n",
    "\n",
    "%autoreload 2\n",
    "\n",
    "_, model = scripts.train_model(config, train_dataset,  validation_dataset=None, use_momentum=True, callback_epoch=None, collate_fn=collate_fn_custom)\n",
    "device = torch.device(config[\"env\"][\"device\"])\n",
    "metrics = torchmetrics.MetricTracker(torchmetrics.MetricCollection(\n",
    "    {\"R_cellwise_residuals\":scripts.GroupwiseMetric(metric=torchmetrics.functional.pearson_corrcoef,\n",
    "                          grouping=\"drugs\",\n",
    "                          average=\"macro\",\n",
    "                          residualize=True),\n",
    "    \"R_cellwise\":scripts.GroupwiseMetric(metric=torchmetrics.functional.pearson_corrcoef,\n",
    "                          grouping=\"cell_lines\",\n",
    "                          average=\"macro\",\n",
    "                          residualize=False),\n",
    "    \"MSE\":torchmetrics.MeanSquaredError()}))\n",
    "metrics.to(device)\n",
    "test_dataloader = torch.utils.data.DataLoader(test_dataset,\n",
    "                                      batch_size=config[\"optimizer\"][\"batch_size\"],\n",
    "                                      drop_last=False,\n",
    "                                      shuffle=False,\n",
    "                                      collate_fn=collate_fn_custom)\n"
   ]
  },
  {
   "cell_type": "code",
   "execution_count": 32,
   "id": "d785c4fb-4bd8-4bd2-b90b-81cb6e701cbb",
   "metadata": {},
   "outputs": [
    {
     "name": "stderr",
     "output_type": "stream",
     "text": [
      "/home/karolyi/PROJECT_repo/scripts/models.py:56: UserWarning: The use of `x.T` on tensors of dimension other than 2 to reverse their shape is deprecated and it will throw an error in a future release. Consider `x.mT` to transpose batches of matrices or `x.permute(*torch.arange(x.ndim - 1, -1, -1))` to reverse the dimensions of a tensor. (Triggered internally at /home/conda/feedstock_root/build_artifacts/libtorch_1730580467430/work/aten/src/ATen/native/TensorShape.cpp:3683.)\n",
      "  return torch.linalg.solve(A, Xy).T\n"
     ]
    },
    {
     "name": "stdout",
     "output_type": "stream",
     "text": [
      "{'MSE': 1.8528733253479004, 'R_cellwise': 0.31360891461372375, 'R_cellwise_residuals': 0.25742870569229126}\n"
     ]
    }
   ],
   "source": [
    "final_metrics = scripts.evaluate_step(model, test_dataloader, metrics, device)\n",
    "print(final_metrics)"
   ]
  },
  {
   "cell_type": "code",
   "execution_count": null,
   "id": "3cf141c5",
   "metadata": {},
   "outputs": [],
   "source": []
  }
 ],
 "metadata": {
  "kernelspec": {
   "display_name": "project_thesis",
   "language": "python",
   "name": "python3"
  },
  "language_info": {
   "codemirror_mode": {
    "name": "ipython",
    "version": 3
   },
   "file_extension": ".py",
   "mimetype": "text/x-python",
   "name": "python",
   "nbconvert_exporter": "python",
   "pygments_lexer": "ipython3",
   "version": "3.13.0"
  }
 },
 "nbformat": 4,
 "nbformat_minor": 5
}
