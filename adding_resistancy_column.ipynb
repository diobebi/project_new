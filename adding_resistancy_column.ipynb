{
 "cells": [
  {
   "cell_type": "code",
   "execution_count": 1,
   "metadata": {},
   "outputs": [],
   "source": [
    "from sklearn.linear_model import Ridge\n",
    "from sklearn.model_selection import GridSearchCV\n",
    "import pandas as pd\n",
    "import numpy as np\n",
    "import torch\n",
    "import scripts\n",
    "from functools import lru_cache\n",
    "import torchmetrics\n",
    "from torch import nn"
   ]
  },
  {
   "cell_type": "code",
   "execution_count": 2,
   "metadata": {},
   "outputs": [
    {
     "name": "stdout",
     "output_type": "stream",
     "text": [
      "   Unnamed: 0 SANGER_MODEL_ID  DRUG_ID   LN_IC50\n",
      "0           0       SIDM00263        1  3.966813\n",
      "1           1       SIDM00269        1  2.692090\n",
      "2           2       SIDM00203        1  2.477990\n",
      "3           3       SIDM01111        1  2.033564\n",
      "4           4       SIDM00909        1  2.966007\n",
      "DRUG_ID\n",
      "1       2.518038\n",
      "3      -2.254267\n",
      "5       2.449618\n",
      "6       2.737677\n",
      "9      -0.101003\n",
      "          ...   \n",
      "1526    1.702494\n",
      "1527    0.855978\n",
      "1529    0.208066\n",
      "1530    4.544618\n",
      "1531    4.489721\n",
      "Name: LN_IC50, Length: 402, dtype: float64\n",
      "DRUG_ID\n",
      "1       1.115176\n",
      "3       2.003086\n",
      "5       1.653964\n",
      "6       0.894592\n",
      "9       1.463111\n",
      "          ...   \n",
      "1526    1.693007\n",
      "1527    1.279134\n",
      "1529    1.505320\n",
      "1530    0.613452\n",
      "1531    0.692023\n",
      "Name: LN_IC50, Length: 402, dtype: float64\n"
     ]
    }
   ],
   "source": [
    "df = pd.read_csv('data/GDSC1.csv')\n",
    "\n",
    "\n",
    "print(df.head())\n",
    "\n",
    "mean_values = df.groupby('DRUG_ID')['LN_IC50'].mean()\n",
    "std_values = df.groupby('DRUG_ID')['LN_IC50'].std()\n",
    "\n",
    "\n",
    "print(mean_values)\n",
    "print(std_values)\n",
    "\n",
    "\n",
    "\n"
   ]
  },
  {
   "cell_type": "code",
   "execution_count": 3,
   "metadata": {},
   "outputs": [
    {
     "name": "stdout",
     "output_type": "stream",
     "text": [
      "333161\n",
      "1\n",
      "3.966813 2.518038211195929\n",
      "1.4487747888040712\n"
     ]
    },
    {
     "data": {
      "text/plain": [
       "np.float64(2.518038211195929)"
      ]
     },
     "execution_count": 3,
     "metadata": {},
     "output_type": "execute_result"
    }
   ],
   "source": [
    "print(len(df))\n",
    "a = int(df.loc[0, 'DRUG_ID'])\n",
    "\n",
    "b = float(df.loc[0, 'LN_IC50'])\n",
    "print(a)\n",
    "zscore = b - mean_values[a]\n",
    "print(b, mean_values[a])\n",
    "print(zscore)\n",
    "\n",
    "mean_values[1]"
   ]
  },
  {
   "cell_type": "code",
   "execution_count": 4,
   "metadata": {},
   "outputs": [],
   "source": [
    "z_scores = []\n",
    "\n",
    "for i in range(0, len(df)):\n",
    "    a = df.loc[i, 'DRUG_ID']\n",
    "    b = df.loc[i,'LN_IC50']\n",
    "    z_score = (b - mean_values[a])/std_values[a]\n",
    "    z_scores.append(z_score)\n",
    "\n"
   ]
  },
  {
   "cell_type": "code",
   "execution_count": 5,
   "metadata": {},
   "outputs": [],
   "source": [
    "resistency = []\n",
    "\n",
    "for i in range(0, len(z_scores)):\n",
    "    if z_scores[i] > 2:\n",
    "        resistency.append(1)\n",
    "        # resistant\n",
    "    elif z_scores[i] < -2:\n",
    "        resistency.append(2)\n",
    "        # sensitive\n",
    "    else:\n",
    "        resistency.append(0)\n",
    "\n",
    "\n",
    "\n",
    "\n"
   ]
  },
  {
   "cell_type": "code",
   "execution_count": 6,
   "metadata": {},
   "outputs": [],
   "source": [
    "df.insert(4, \"resistency\", resistency)"
   ]
  },
  {
   "cell_type": "code",
   "execution_count": 7,
   "metadata": {},
   "outputs": [
    {
     "name": "stdout",
     "output_type": "stream",
     "text": [
      "   Unnamed: 0 SANGER_MODEL_ID  DRUG_ID   LN_IC50  resistency\n",
      "0           0       SIDM00263        1  3.966813           0\n",
      "1           1       SIDM00269        1  2.692090           0\n",
      "2           2       SIDM00203        1  2.477990           0\n",
      "3           3       SIDM01111        1  2.033564           0\n",
      "4           4       SIDM00909        1  2.966007           0\n"
     ]
    }
   ],
   "source": [
    "print(df.head())\n",
    "\n",
    "# df.to_csv('data/GDSC12.csv', index=False)"
   ]
  }
 ],
 "metadata": {
  "kernelspec": {
   "display_name": "project_thesis",
   "language": "python",
   "name": "python3"
  },
  "language_info": {
   "codemirror_mode": {
    "name": "ipython",
    "version": 3
   },
   "file_extension": ".py",
   "mimetype": "text/x-python",
   "name": "python",
   "nbconvert_exporter": "python",
   "pygments_lexer": "ipython3",
   "version": "3.13.0"
  }
 },
 "nbformat": 4,
 "nbformat_minor": 2
}
